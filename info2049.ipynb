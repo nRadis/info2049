{
  "nbformat": 4,
  "nbformat_minor": 0,
  "metadata": {
    "colab": {
      "name": "info2049.ipynb",
      "provenance": [],
      "authorship_tag": "ABX9TyO3OkPT9/eIPpNImsYUziEq",
      "include_colab_link": true
    },
    "kernelspec": {
      "name": "python3",
      "display_name": "Python 3"
    }
  },
  "cells": [
    {
      "cell_type": "markdown",
      "metadata": {
        "id": "view-in-github",
        "colab_type": "text"
      },
      "source": [
        "<a href=\"https://colab.research.google.com/github/nRadis/info2049/blob/main/info2049.ipynb\" target=\"_parent\"><img src=\"https://colab.research.google.com/assets/colab-badge.svg\" alt=\"Open In Colab\"/></a>"
      ]
    },
    {
      "cell_type": "markdown",
      "metadata": {
        "id": "MCtMpfo6mfxu"
      },
      "source": [
        "# TEST\n",
        "\n",
        "Ceci est un grand test"
      ]
    }
  ]
}