{
  "nbformat": 4,
  "nbformat_minor": 0,
  "metadata": {
    "accelerator": "GPU",
    "colab": {
      "name": "info2049.ipynb",
      "provenance": [],
      "collapsed_sections": [],
      "mount_file_id": "1pqilGns4l07_E3yIuhdI6DEAFWAq5tJm",
      "authorship_tag": "ABX9TyPoCVDlPAtxYEkPEBpGb9Yw",
      "include_colab_link": true
    },
    "kernelspec": {
      "display_name": "Python 3",
      "name": "python3"
    },
    "widgets": {
      "application/vnd.jupyter.widget-state+json": {
        "d829c22bec0e4b648e28f914340f441f": {
          "model_module": "@jupyter-widgets/controls",
          "model_name": "HBoxModel",
          "state": {
            "_view_name": "HBoxView",
            "_dom_classes": [],
            "_model_name": "HBoxModel",
            "_view_module": "@jupyter-widgets/controls",
            "_model_module_version": "1.5.0",
            "_view_count": null,
            "_view_module_version": "1.5.0",
            "box_style": "",
            "layout": "IPY_MODEL_50744deb4c1348d1a61f84f58cef7eab",
            "_model_module": "@jupyter-widgets/controls",
            "children": [
              "IPY_MODEL_5f09d7662a84490183e967daf163aaef",
              "IPY_MODEL_61955268337d46b4beab4bb1a79db9a2"
            ]
          }
        },
        "50744deb4c1348d1a61f84f58cef7eab": {
          "model_module": "@jupyter-widgets/base",
          "model_name": "LayoutModel",
          "state": {
            "_view_name": "LayoutView",
            "grid_template_rows": null,
            "right": null,
            "justify_content": null,
            "_view_module": "@jupyter-widgets/base",
            "overflow": null,
            "_model_module_version": "1.2.0",
            "_view_count": null,
            "flex_flow": null,
            "width": null,
            "min_width": null,
            "border": null,
            "align_items": null,
            "bottom": null,
            "_model_module": "@jupyter-widgets/base",
            "top": null,
            "grid_column": null,
            "overflow_y": null,
            "overflow_x": null,
            "grid_auto_flow": null,
            "grid_area": null,
            "grid_template_columns": null,
            "flex": null,
            "_model_name": "LayoutModel",
            "justify_items": null,
            "grid_row": null,
            "max_height": null,
            "align_content": null,
            "visibility": null,
            "align_self": null,
            "height": null,
            "min_height": null,
            "padding": null,
            "grid_auto_rows": null,
            "grid_gap": null,
            "max_width": null,
            "order": null,
            "_view_module_version": "1.2.0",
            "grid_template_areas": null,
            "object_position": null,
            "object_fit": null,
            "grid_auto_columns": null,
            "margin": null,
            "display": null,
            "left": null
          }
        },
        "5f09d7662a84490183e967daf163aaef": {
          "model_module": "@jupyter-widgets/controls",
          "model_name": "FloatProgressModel",
          "state": {
            "_view_name": "ProgressView",
            "style": "IPY_MODEL_d9a46e225c7e4d71bf5755b4cca85504",
            "_dom_classes": [],
            "description": "Dl Completed...: 100%",
            "_model_name": "FloatProgressModel",
            "bar_style": "success",
            "max": 1,
            "_view_module": "@jupyter-widgets/controls",
            "_model_module_version": "1.5.0",
            "value": 1,
            "_view_count": null,
            "_view_module_version": "1.5.0",
            "orientation": "horizontal",
            "min": 0,
            "description_tooltip": null,
            "_model_module": "@jupyter-widgets/controls",
            "layout": "IPY_MODEL_495bcb12b4ad468ba403849262738b2e"
          }
        },
        "61955268337d46b4beab4bb1a79db9a2": {
          "model_module": "@jupyter-widgets/controls",
          "model_name": "HTMLModel",
          "state": {
            "_view_name": "HTMLView",
            "style": "IPY_MODEL_43859a21ab7a42f98773a6665451e228",
            "_dom_classes": [],
            "description": "",
            "_model_name": "HTMLModel",
            "placeholder": "​",
            "_view_module": "@jupyter-widgets/controls",
            "_model_module_version": "1.5.0",
            "value": " 5/5 [01:26&lt;00:00, 17.40s/ url]",
            "_view_count": null,
            "_view_module_version": "1.5.0",
            "description_tooltip": null,
            "_model_module": "@jupyter-widgets/controls",
            "layout": "IPY_MODEL_c43827317f4b4129beeebde7b02db2ab"
          }
        },
        "d9a46e225c7e4d71bf5755b4cca85504": {
          "model_module": "@jupyter-widgets/controls",
          "model_name": "ProgressStyleModel",
          "state": {
            "_view_name": "StyleView",
            "_model_name": "ProgressStyleModel",
            "description_width": "initial",
            "_view_module": "@jupyter-widgets/base",
            "_model_module_version": "1.5.0",
            "_view_count": null,
            "_view_module_version": "1.2.0",
            "bar_color": null,
            "_model_module": "@jupyter-widgets/controls"
          }
        },
        "495bcb12b4ad468ba403849262738b2e": {
          "model_module": "@jupyter-widgets/base",
          "model_name": "LayoutModel",
          "state": {
            "_view_name": "LayoutView",
            "grid_template_rows": null,
            "right": null,
            "justify_content": null,
            "_view_module": "@jupyter-widgets/base",
            "overflow": null,
            "_model_module_version": "1.2.0",
            "_view_count": null,
            "flex_flow": null,
            "width": null,
            "min_width": null,
            "border": null,
            "align_items": null,
            "bottom": null,
            "_model_module": "@jupyter-widgets/base",
            "top": null,
            "grid_column": null,
            "overflow_y": null,
            "overflow_x": null,
            "grid_auto_flow": null,
            "grid_area": null,
            "grid_template_columns": null,
            "flex": null,
            "_model_name": "LayoutModel",
            "justify_items": null,
            "grid_row": null,
            "max_height": null,
            "align_content": null,
            "visibility": null,
            "align_self": null,
            "height": null,
            "min_height": null,
            "padding": null,
            "grid_auto_rows": null,
            "grid_gap": null,
            "max_width": null,
            "order": null,
            "_view_module_version": "1.2.0",
            "grid_template_areas": null,
            "object_position": null,
            "object_fit": null,
            "grid_auto_columns": null,
            "margin": null,
            "display": null,
            "left": null
          }
        },
        "43859a21ab7a42f98773a6665451e228": {
          "model_module": "@jupyter-widgets/controls",
          "model_name": "DescriptionStyleModel",
          "state": {
            "_view_name": "StyleView",
            "_model_name": "DescriptionStyleModel",
            "description_width": "",
            "_view_module": "@jupyter-widgets/base",
            "_model_module_version": "1.5.0",
            "_view_count": null,
            "_view_module_version": "1.2.0",
            "_model_module": "@jupyter-widgets/controls"
          }
        },
        "c43827317f4b4129beeebde7b02db2ab": {
          "model_module": "@jupyter-widgets/base",
          "model_name": "LayoutModel",
          "state": {
            "_view_name": "LayoutView",
            "grid_template_rows": null,
            "right": null,
            "justify_content": null,
            "_view_module": "@jupyter-widgets/base",
            "overflow": null,
            "_model_module_version": "1.2.0",
            "_view_count": null,
            "flex_flow": null,
            "width": null,
            "min_width": null,
            "border": null,
            "align_items": null,
            "bottom": null,
            "_model_module": "@jupyter-widgets/base",
            "top": null,
            "grid_column": null,
            "overflow_y": null,
            "overflow_x": null,
            "grid_auto_flow": null,
            "grid_area": null,
            "grid_template_columns": null,
            "flex": null,
            "_model_name": "LayoutModel",
            "justify_items": null,
            "grid_row": null,
            "max_height": null,
            "align_content": null,
            "visibility": null,
            "align_self": null,
            "height": null,
            "min_height": null,
            "padding": null,
            "grid_auto_rows": null,
            "grid_gap": null,
            "max_width": null,
            "order": null,
            "_view_module_version": "1.2.0",
            "grid_template_areas": null,
            "object_position": null,
            "object_fit": null,
            "grid_auto_columns": null,
            "margin": null,
            "display": null,
            "left": null
          }
        },
        "580c73c130074d2fa2beb3d103645208": {
          "model_module": "@jupyter-widgets/controls",
          "model_name": "HBoxModel",
          "state": {
            "_view_name": "HBoxView",
            "_dom_classes": [],
            "_model_name": "HBoxModel",
            "_view_module": "@jupyter-widgets/controls",
            "_model_module_version": "1.5.0",
            "_view_count": null,
            "_view_module_version": "1.5.0",
            "box_style": "",
            "layout": "IPY_MODEL_49a88b839fcc45608d348c882265124f",
            "_model_module": "@jupyter-widgets/controls",
            "children": [
              "IPY_MODEL_1ad1f8f1b68c424abc5259666165843a",
              "IPY_MODEL_638b6a56223d4db78726b69e574c6eca"
            ]
          }
        },
        "49a88b839fcc45608d348c882265124f": {
          "model_module": "@jupyter-widgets/base",
          "model_name": "LayoutModel",
          "state": {
            "_view_name": "LayoutView",
            "grid_template_rows": null,
            "right": null,
            "justify_content": null,
            "_view_module": "@jupyter-widgets/base",
            "overflow": null,
            "_model_module_version": "1.2.0",
            "_view_count": null,
            "flex_flow": null,
            "width": null,
            "min_width": null,
            "border": null,
            "align_items": null,
            "bottom": null,
            "_model_module": "@jupyter-widgets/base",
            "top": null,
            "grid_column": null,
            "overflow_y": null,
            "overflow_x": null,
            "grid_auto_flow": null,
            "grid_area": null,
            "grid_template_columns": null,
            "flex": null,
            "_model_name": "LayoutModel",
            "justify_items": null,
            "grid_row": null,
            "max_height": null,
            "align_content": null,
            "visibility": null,
            "align_self": null,
            "height": null,
            "min_height": null,
            "padding": null,
            "grid_auto_rows": null,
            "grid_gap": null,
            "max_width": null,
            "order": null,
            "_view_module_version": "1.2.0",
            "grid_template_areas": null,
            "object_position": null,
            "object_fit": null,
            "grid_auto_columns": null,
            "margin": null,
            "display": null,
            "left": null
          }
        },
        "1ad1f8f1b68c424abc5259666165843a": {
          "model_module": "@jupyter-widgets/controls",
          "model_name": "FloatProgressModel",
          "state": {
            "_view_name": "ProgressView",
            "style": "IPY_MODEL_0c06bbc317aa46e2a122ded0c95eb4ac",
            "_dom_classes": [],
            "description": "Dl Size...: ",
            "_model_name": "FloatProgressModel",
            "bar_style": "success",
            "max": 1,
            "_view_module": "@jupyter-widgets/controls",
            "_model_module_version": "1.5.0",
            "value": 1,
            "_view_count": null,
            "_view_module_version": "1.5.0",
            "orientation": "horizontal",
            "min": 0,
            "description_tooltip": null,
            "_model_module": "@jupyter-widgets/controls",
            "layout": "IPY_MODEL_63858c38d854438db25a86fe0b3380fb"
          }
        },
        "638b6a56223d4db78726b69e574c6eca": {
          "model_module": "@jupyter-widgets/controls",
          "model_name": "HTMLModel",
          "state": {
            "_view_name": "HTMLView",
            "style": "IPY_MODEL_f7a2aec94320440480ef9004406ab535",
            "_dom_classes": [],
            "description": "",
            "_model_name": "HTMLModel",
            "placeholder": "​",
            "_view_module": "@jupyter-widgets/controls",
            "_model_module_version": "1.5.0",
            "value": " 557/? [01:26&lt;00:00,  6.41 MiB/s]",
            "_view_count": null,
            "_view_module_version": "1.5.0",
            "description_tooltip": null,
            "_model_module": "@jupyter-widgets/controls",
            "layout": "IPY_MODEL_b745394e57294c23bc44d9a400354f28"
          }
        },
        "0c06bbc317aa46e2a122ded0c95eb4ac": {
          "model_module": "@jupyter-widgets/controls",
          "model_name": "ProgressStyleModel",
          "state": {
            "_view_name": "StyleView",
            "_model_name": "ProgressStyleModel",
            "description_width": "initial",
            "_view_module": "@jupyter-widgets/base",
            "_model_module_version": "1.5.0",
            "_view_count": null,
            "_view_module_version": "1.2.0",
            "bar_color": null,
            "_model_module": "@jupyter-widgets/controls"
          }
        },
        "63858c38d854438db25a86fe0b3380fb": {
          "model_module": "@jupyter-widgets/base",
          "model_name": "LayoutModel",
          "state": {
            "_view_name": "LayoutView",
            "grid_template_rows": null,
            "right": null,
            "justify_content": null,
            "_view_module": "@jupyter-widgets/base",
            "overflow": null,
            "_model_module_version": "1.2.0",
            "_view_count": null,
            "flex_flow": null,
            "width": null,
            "min_width": null,
            "border": null,
            "align_items": null,
            "bottom": null,
            "_model_module": "@jupyter-widgets/base",
            "top": null,
            "grid_column": null,
            "overflow_y": null,
            "overflow_x": null,
            "grid_auto_flow": null,
            "grid_area": null,
            "grid_template_columns": null,
            "flex": null,
            "_model_name": "LayoutModel",
            "justify_items": null,
            "grid_row": null,
            "max_height": null,
            "align_content": null,
            "visibility": null,
            "align_self": null,
            "height": null,
            "min_height": null,
            "padding": null,
            "grid_auto_rows": null,
            "grid_gap": null,
            "max_width": null,
            "order": null,
            "_view_module_version": "1.2.0",
            "grid_template_areas": null,
            "object_position": null,
            "object_fit": null,
            "grid_auto_columns": null,
            "margin": null,
            "display": null,
            "left": null
          }
        },
        "f7a2aec94320440480ef9004406ab535": {
          "model_module": "@jupyter-widgets/controls",
          "model_name": "DescriptionStyleModel",
          "state": {
            "_view_name": "StyleView",
            "_model_name": "DescriptionStyleModel",
            "description_width": "",
            "_view_module": "@jupyter-widgets/base",
            "_model_module_version": "1.5.0",
            "_view_count": null,
            "_view_module_version": "1.2.0",
            "_model_module": "@jupyter-widgets/controls"
          }
        },
        "b745394e57294c23bc44d9a400354f28": {
          "model_module": "@jupyter-widgets/base",
          "model_name": "LayoutModel",
          "state": {
            "_view_name": "LayoutView",
            "grid_template_rows": null,
            "right": null,
            "justify_content": null,
            "_view_module": "@jupyter-widgets/base",
            "overflow": null,
            "_model_module_version": "1.2.0",
            "_view_count": null,
            "flex_flow": null,
            "width": null,
            "min_width": null,
            "border": null,
            "align_items": null,
            "bottom": null,
            "_model_module": "@jupyter-widgets/base",
            "top": null,
            "grid_column": null,
            "overflow_y": null,
            "overflow_x": null,
            "grid_auto_flow": null,
            "grid_area": null,
            "grid_template_columns": null,
            "flex": null,
            "_model_name": "LayoutModel",
            "justify_items": null,
            "grid_row": null,
            "max_height": null,
            "align_content": null,
            "visibility": null,
            "align_self": null,
            "height": null,
            "min_height": null,
            "padding": null,
            "grid_auto_rows": null,
            "grid_gap": null,
            "max_width": null,
            "order": null,
            "_view_module_version": "1.2.0",
            "grid_template_areas": null,
            "object_position": null,
            "object_fit": null,
            "grid_auto_columns": null,
            "margin": null,
            "display": null,
            "left": null
          }
        },
        "b264b779672d4fd28e1f6778bf46b029": {
          "model_module": "@jupyter-widgets/controls",
          "model_name": "HBoxModel",
          "state": {
            "_view_name": "HBoxView",
            "_dom_classes": [],
            "_model_name": "HBoxModel",
            "_view_module": "@jupyter-widgets/controls",
            "_model_module_version": "1.5.0",
            "_view_count": null,
            "_view_module_version": "1.5.0",
            "box_style": "",
            "layout": "IPY_MODEL_e35d19ffb3af46efb7f0b6ee9a5239ac",
            "_model_module": "@jupyter-widgets/controls",
            "children": [
              "IPY_MODEL_e7bbdd4c92c042619ffa3f36fc10fbea",
              "IPY_MODEL_b5132fe83ac646018ca600f8939ae0a7"
            ]
          }
        },
        "e35d19ffb3af46efb7f0b6ee9a5239ac": {
          "model_module": "@jupyter-widgets/base",
          "model_name": "LayoutModel",
          "state": {
            "_view_name": "LayoutView",
            "grid_template_rows": null,
            "right": null,
            "justify_content": null,
            "_view_module": "@jupyter-widgets/base",
            "overflow": null,
            "_model_module_version": "1.2.0",
            "_view_count": null,
            "flex_flow": null,
            "width": null,
            "min_width": null,
            "border": null,
            "align_items": null,
            "bottom": null,
            "_model_module": "@jupyter-widgets/base",
            "top": null,
            "grid_column": null,
            "overflow_y": null,
            "overflow_x": null,
            "grid_auto_flow": null,
            "grid_area": null,
            "grid_template_columns": null,
            "flex": null,
            "_model_name": "LayoutModel",
            "justify_items": null,
            "grid_row": null,
            "max_height": null,
            "align_content": null,
            "visibility": null,
            "align_self": null,
            "height": null,
            "min_height": null,
            "padding": null,
            "grid_auto_rows": null,
            "grid_gap": null,
            "max_width": null,
            "order": null,
            "_view_module_version": "1.2.0",
            "grid_template_areas": null,
            "object_position": null,
            "object_fit": null,
            "grid_auto_columns": null,
            "margin": null,
            "display": null,
            "left": null
          }
        },
        "e7bbdd4c92c042619ffa3f36fc10fbea": {
          "model_module": "@jupyter-widgets/controls",
          "model_name": "FloatProgressModel",
          "state": {
            "_view_name": "ProgressView",
            "style": "IPY_MODEL_9f80c7f7ecd840608058194010b09f79",
            "_dom_classes": [],
            "description": "Extraction completed...: 100%",
            "_model_name": "FloatProgressModel",
            "bar_style": "success",
            "max": 1,
            "_view_module": "@jupyter-widgets/controls",
            "_model_module_version": "1.5.0",
            "value": 1,
            "_view_count": null,
            "_view_module_version": "1.5.0",
            "orientation": "horizontal",
            "min": 0,
            "description_tooltip": null,
            "_model_module": "@jupyter-widgets/controls",
            "layout": "IPY_MODEL_8eaf2144129b4546b8044a2317e6246e"
          }
        },
        "b5132fe83ac646018ca600f8939ae0a7": {
          "model_module": "@jupyter-widgets/controls",
          "model_name": "HTMLModel",
          "state": {
            "_view_name": "HTMLView",
            "style": "IPY_MODEL_da7d7c8a1701491f99995439f5ecd615",
            "_dom_classes": [],
            "description": "",
            "_model_name": "HTMLModel",
            "placeholder": "​",
            "_view_module": "@jupyter-widgets/controls",
            "_model_module_version": "1.5.0",
            "value": " 2/2 [01:26&lt;00:00, 43.45s/ file]",
            "_view_count": null,
            "_view_module_version": "1.5.0",
            "description_tooltip": null,
            "_model_module": "@jupyter-widgets/controls",
            "layout": "IPY_MODEL_4e98fb2e48134275986f2a707f9750de"
          }
        },
        "9f80c7f7ecd840608058194010b09f79": {
          "model_module": "@jupyter-widgets/controls",
          "model_name": "ProgressStyleModel",
          "state": {
            "_view_name": "StyleView",
            "_model_name": "ProgressStyleModel",
            "description_width": "initial",
            "_view_module": "@jupyter-widgets/base",
            "_model_module_version": "1.5.0",
            "_view_count": null,
            "_view_module_version": "1.2.0",
            "bar_color": null,
            "_model_module": "@jupyter-widgets/controls"
          }
        },
        "8eaf2144129b4546b8044a2317e6246e": {
          "model_module": "@jupyter-widgets/base",
          "model_name": "LayoutModel",
          "state": {
            "_view_name": "LayoutView",
            "grid_template_rows": null,
            "right": null,
            "justify_content": null,
            "_view_module": "@jupyter-widgets/base",
            "overflow": null,
            "_model_module_version": "1.2.0",
            "_view_count": null,
            "flex_flow": null,
            "width": null,
            "min_width": null,
            "border": null,
            "align_items": null,
            "bottom": null,
            "_model_module": "@jupyter-widgets/base",
            "top": null,
            "grid_column": null,
            "overflow_y": null,
            "overflow_x": null,
            "grid_auto_flow": null,
            "grid_area": null,
            "grid_template_columns": null,
            "flex": null,
            "_model_name": "LayoutModel",
            "justify_items": null,
            "grid_row": null,
            "max_height": null,
            "align_content": null,
            "visibility": null,
            "align_self": null,
            "height": null,
            "min_height": null,
            "padding": null,
            "grid_auto_rows": null,
            "grid_gap": null,
            "max_width": null,
            "order": null,
            "_view_module_version": "1.2.0",
            "grid_template_areas": null,
            "object_position": null,
            "object_fit": null,
            "grid_auto_columns": null,
            "margin": null,
            "display": null,
            "left": null
          }
        },
        "da7d7c8a1701491f99995439f5ecd615": {
          "model_module": "@jupyter-widgets/controls",
          "model_name": "DescriptionStyleModel",
          "state": {
            "_view_name": "StyleView",
            "_model_name": "DescriptionStyleModel",
            "description_width": "",
            "_view_module": "@jupyter-widgets/base",
            "_model_module_version": "1.5.0",
            "_view_count": null,
            "_view_module_version": "1.2.0",
            "_model_module": "@jupyter-widgets/controls"
          }
        },
        "4e98fb2e48134275986f2a707f9750de": {
          "model_module": "@jupyter-widgets/base",
          "model_name": "LayoutModel",
          "state": {
            "_view_name": "LayoutView",
            "grid_template_rows": null,
            "right": null,
            "justify_content": null,
            "_view_module": "@jupyter-widgets/base",
            "overflow": null,
            "_model_module_version": "1.2.0",
            "_view_count": null,
            "flex_flow": null,
            "width": null,
            "min_width": null,
            "border": null,
            "align_items": null,
            "bottom": null,
            "_model_module": "@jupyter-widgets/base",
            "top": null,
            "grid_column": null,
            "overflow_y": null,
            "overflow_x": null,
            "grid_auto_flow": null,
            "grid_area": null,
            "grid_template_columns": null,
            "flex": null,
            "_model_name": "LayoutModel",
            "justify_items": null,
            "grid_row": null,
            "max_height": null,
            "align_content": null,
            "visibility": null,
            "align_self": null,
            "height": null,
            "min_height": null,
            "padding": null,
            "grid_auto_rows": null,
            "grid_gap": null,
            "max_width": null,
            "order": null,
            "_view_module_version": "1.2.0",
            "grid_template_areas": null,
            "object_position": null,
            "object_fit": null,
            "grid_auto_columns": null,
            "margin": null,
            "display": null,
            "left": null
          }
        },
        "ea62b32e5ec3492d9512e7f5fa4fd87f": {
          "model_module": "@jupyter-widgets/controls",
          "model_name": "HBoxModel",
          "state": {
            "_view_name": "HBoxView",
            "_dom_classes": [],
            "_model_name": "HBoxModel",
            "_view_module": "@jupyter-widgets/controls",
            "_model_module_version": "1.5.0",
            "_view_count": null,
            "_view_module_version": "1.5.0",
            "box_style": "",
            "layout": "IPY_MODEL_286bb7559c254524b6473e826b8bff73",
            "_model_module": "@jupyter-widgets/controls",
            "children": [
              "IPY_MODEL_e0c8fcf6590b475aa7fb7bb8a77d7d18",
              "IPY_MODEL_4a124dd9272147538ce56154d21dcc03"
            ]
          }
        },
        "286bb7559c254524b6473e826b8bff73": {
          "model_module": "@jupyter-widgets/base",
          "model_name": "LayoutModel",
          "state": {
            "_view_name": "LayoutView",
            "grid_template_rows": null,
            "right": null,
            "justify_content": null,
            "_view_module": "@jupyter-widgets/base",
            "overflow": null,
            "_model_module_version": "1.2.0",
            "_view_count": null,
            "flex_flow": null,
            "width": null,
            "min_width": null,
            "border": null,
            "align_items": null,
            "bottom": null,
            "_model_module": "@jupyter-widgets/base",
            "top": null,
            "grid_column": null,
            "overflow_y": null,
            "overflow_x": null,
            "grid_auto_flow": null,
            "grid_area": null,
            "grid_template_columns": null,
            "flex": null,
            "_model_name": "LayoutModel",
            "justify_items": null,
            "grid_row": null,
            "max_height": null,
            "align_content": null,
            "visibility": null,
            "align_self": null,
            "height": null,
            "min_height": null,
            "padding": null,
            "grid_auto_rows": null,
            "grid_gap": null,
            "max_width": null,
            "order": null,
            "_view_module_version": "1.2.0",
            "grid_template_areas": null,
            "object_position": null,
            "object_fit": null,
            "grid_auto_columns": null,
            "margin": null,
            "display": null,
            "left": null
          }
        },
        "e0c8fcf6590b475aa7fb7bb8a77d7d18": {
          "model_module": "@jupyter-widgets/controls",
          "model_name": "FloatProgressModel",
          "state": {
            "_view_name": "ProgressView",
            "style": "IPY_MODEL_ee01720415744650ab136d00d7fa622d",
            "_dom_classes": [],
            "description": "",
            "_model_name": "FloatProgressModel",
            "bar_style": "info",
            "max": 1,
            "_view_module": "@jupyter-widgets/controls",
            "_model_module_version": "1.5.0",
            "value": 1,
            "_view_count": null,
            "_view_module_version": "1.5.0",
            "orientation": "horizontal",
            "min": 0,
            "description_tooltip": null,
            "_model_module": "@jupyter-widgets/controls",
            "layout": "IPY_MODEL_516822cd3cd04a02b630d58948fcd452"
          }
        },
        "4a124dd9272147538ce56154d21dcc03": {
          "model_module": "@jupyter-widgets/controls",
          "model_name": "HTMLModel",
          "state": {
            "_view_name": "HTMLView",
            "style": "IPY_MODEL_7c20ae12fa474ccea41cfd00de648051",
            "_dom_classes": [],
            "description": "",
            "_model_name": "HTMLModel",
            "placeholder": "​",
            "_view_module": "@jupyter-widgets/controls",
            "_model_module_version": "1.5.0",
            "value": " 287113/0 [03:24&lt;00:00, 1302.27 examples/s]",
            "_view_count": null,
            "_view_module_version": "1.5.0",
            "description_tooltip": null,
            "_model_module": "@jupyter-widgets/controls",
            "layout": "IPY_MODEL_f02509c1a50740a5b374244560bd75be"
          }
        },
        "ee01720415744650ab136d00d7fa622d": {
          "model_module": "@jupyter-widgets/controls",
          "model_name": "ProgressStyleModel",
          "state": {
            "_view_name": "StyleView",
            "_model_name": "ProgressStyleModel",
            "description_width": "initial",
            "_view_module": "@jupyter-widgets/base",
            "_model_module_version": "1.5.0",
            "_view_count": null,
            "_view_module_version": "1.2.0",
            "bar_color": null,
            "_model_module": "@jupyter-widgets/controls"
          }
        },
        "516822cd3cd04a02b630d58948fcd452": {
          "model_module": "@jupyter-widgets/base",
          "model_name": "LayoutModel",
          "state": {
            "_view_name": "LayoutView",
            "grid_template_rows": null,
            "right": null,
            "justify_content": null,
            "_view_module": "@jupyter-widgets/base",
            "overflow": null,
            "_model_module_version": "1.2.0",
            "_view_count": null,
            "flex_flow": null,
            "width": null,
            "min_width": null,
            "border": null,
            "align_items": null,
            "bottom": null,
            "_model_module": "@jupyter-widgets/base",
            "top": null,
            "grid_column": null,
            "overflow_y": null,
            "overflow_x": null,
            "grid_auto_flow": null,
            "grid_area": null,
            "grid_template_columns": null,
            "flex": null,
            "_model_name": "LayoutModel",
            "justify_items": null,
            "grid_row": null,
            "max_height": null,
            "align_content": null,
            "visibility": null,
            "align_self": null,
            "height": null,
            "min_height": null,
            "padding": null,
            "grid_auto_rows": null,
            "grid_gap": null,
            "max_width": null,
            "order": null,
            "_view_module_version": "1.2.0",
            "grid_template_areas": null,
            "object_position": null,
            "object_fit": null,
            "grid_auto_columns": null,
            "margin": null,
            "display": null,
            "left": null
          }
        },
        "7c20ae12fa474ccea41cfd00de648051": {
          "model_module": "@jupyter-widgets/controls",
          "model_name": "DescriptionStyleModel",
          "state": {
            "_view_name": "StyleView",
            "_model_name": "DescriptionStyleModel",
            "description_width": "",
            "_view_module": "@jupyter-widgets/base",
            "_model_module_version": "1.5.0",
            "_view_count": null,
            "_view_module_version": "1.2.0",
            "_model_module": "@jupyter-widgets/controls"
          }
        },
        "f02509c1a50740a5b374244560bd75be": {
          "model_module": "@jupyter-widgets/base",
          "model_name": "LayoutModel",
          "state": {
            "_view_name": "LayoutView",
            "grid_template_rows": null,
            "right": null,
            "justify_content": null,
            "_view_module": "@jupyter-widgets/base",
            "overflow": null,
            "_model_module_version": "1.2.0",
            "_view_count": null,
            "flex_flow": null,
            "width": null,
            "min_width": null,
            "border": null,
            "align_items": null,
            "bottom": null,
            "_model_module": "@jupyter-widgets/base",
            "top": null,
            "grid_column": null,
            "overflow_y": null,
            "overflow_x": null,
            "grid_auto_flow": null,
            "grid_area": null,
            "grid_template_columns": null,
            "flex": null,
            "_model_name": "LayoutModel",
            "justify_items": null,
            "grid_row": null,
            "max_height": null,
            "align_content": null,
            "visibility": null,
            "align_self": null,
            "height": null,
            "min_height": null,
            "padding": null,
            "grid_auto_rows": null,
            "grid_gap": null,
            "max_width": null,
            "order": null,
            "_view_module_version": "1.2.0",
            "grid_template_areas": null,
            "object_position": null,
            "object_fit": null,
            "grid_auto_columns": null,
            "margin": null,
            "display": null,
            "left": null
          }
        },
        "6f57e33711ac4d9f8ee73b1cc7912693": {
          "model_module": "@jupyter-widgets/controls",
          "model_name": "HBoxModel",
          "state": {
            "_view_name": "HBoxView",
            "_dom_classes": [],
            "_model_name": "HBoxModel",
            "_view_module": "@jupyter-widgets/controls",
            "_model_module_version": "1.5.0",
            "_view_count": null,
            "_view_module_version": "1.5.0",
            "box_style": "",
            "layout": "IPY_MODEL_769cc10907f24e0a92c441e300202a7d",
            "_model_module": "@jupyter-widgets/controls",
            "children": [
              "IPY_MODEL_2f44eb05082f425086da093117e4e9d8",
              "IPY_MODEL_b3a05758fe7d4df583818fa3bcc9b5b2"
            ]
          }
        },
        "769cc10907f24e0a92c441e300202a7d": {
          "model_module": "@jupyter-widgets/base",
          "model_name": "LayoutModel",
          "state": {
            "_view_name": "LayoutView",
            "grid_template_rows": null,
            "right": null,
            "justify_content": null,
            "_view_module": "@jupyter-widgets/base",
            "overflow": null,
            "_model_module_version": "1.2.0",
            "_view_count": null,
            "flex_flow": null,
            "width": null,
            "min_width": null,
            "border": null,
            "align_items": null,
            "bottom": null,
            "_model_module": "@jupyter-widgets/base",
            "top": null,
            "grid_column": null,
            "overflow_y": null,
            "overflow_x": null,
            "grid_auto_flow": null,
            "grid_area": null,
            "grid_template_columns": null,
            "flex": null,
            "_model_name": "LayoutModel",
            "justify_items": null,
            "grid_row": null,
            "max_height": null,
            "align_content": null,
            "visibility": null,
            "align_self": null,
            "height": null,
            "min_height": null,
            "padding": null,
            "grid_auto_rows": null,
            "grid_gap": null,
            "max_width": null,
            "order": null,
            "_view_module_version": "1.2.0",
            "grid_template_areas": null,
            "object_position": null,
            "object_fit": null,
            "grid_auto_columns": null,
            "margin": null,
            "display": null,
            "left": null
          }
        },
        "2f44eb05082f425086da093117e4e9d8": {
          "model_module": "@jupyter-widgets/controls",
          "model_name": "FloatProgressModel",
          "state": {
            "_view_name": "ProgressView",
            "style": "IPY_MODEL_23390a5563984b509024a5afcdf2e2a3",
            "_dom_classes": [],
            "description": "100%",
            "_model_name": "FloatProgressModel",
            "bar_style": "danger",
            "max": 287113,
            "_view_module": "@jupyter-widgets/controls",
            "_model_module_version": "1.5.0",
            "value": 286957,
            "_view_count": null,
            "_view_module_version": "1.5.0",
            "orientation": "horizontal",
            "min": 0,
            "description_tooltip": null,
            "_model_module": "@jupyter-widgets/controls",
            "layout": "IPY_MODEL_3c223ff436834948b1c4be85dcd6fa86"
          }
        },
        "b3a05758fe7d4df583818fa3bcc9b5b2": {
          "model_module": "@jupyter-widgets/controls",
          "model_name": "HTMLModel",
          "state": {
            "_view_name": "HTMLView",
            "style": "IPY_MODEL_cbb64b2873a740c29c856019cb6212e6",
            "_dom_classes": [],
            "description": "",
            "_model_name": "HTMLModel",
            "placeholder": "​",
            "_view_module": "@jupyter-widgets/controls",
            "_model_module_version": "1.5.0",
            "value": " 286957/287113 [00:08&lt;00:00, 39487.07 examples/s]",
            "_view_count": null,
            "_view_module_version": "1.5.0",
            "description_tooltip": null,
            "_model_module": "@jupyter-widgets/controls",
            "layout": "IPY_MODEL_b55727bc4d5d414aa872cba9d9291fae"
          }
        },
        "23390a5563984b509024a5afcdf2e2a3": {
          "model_module": "@jupyter-widgets/controls",
          "model_name": "ProgressStyleModel",
          "state": {
            "_view_name": "StyleView",
            "_model_name": "ProgressStyleModel",
            "description_width": "initial",
            "_view_module": "@jupyter-widgets/base",
            "_model_module_version": "1.5.0",
            "_view_count": null,
            "_view_module_version": "1.2.0",
            "bar_color": null,
            "_model_module": "@jupyter-widgets/controls"
          }
        },
        "3c223ff436834948b1c4be85dcd6fa86": {
          "model_module": "@jupyter-widgets/base",
          "model_name": "LayoutModel",
          "state": {
            "_view_name": "LayoutView",
            "grid_template_rows": null,
            "right": null,
            "justify_content": null,
            "_view_module": "@jupyter-widgets/base",
            "overflow": null,
            "_model_module_version": "1.2.0",
            "_view_count": null,
            "flex_flow": null,
            "width": null,
            "min_width": null,
            "border": null,
            "align_items": null,
            "bottom": null,
            "_model_module": "@jupyter-widgets/base",
            "top": null,
            "grid_column": null,
            "overflow_y": null,
            "overflow_x": null,
            "grid_auto_flow": null,
            "grid_area": null,
            "grid_template_columns": null,
            "flex": null,
            "_model_name": "LayoutModel",
            "justify_items": null,
            "grid_row": null,
            "max_height": null,
            "align_content": null,
            "visibility": null,
            "align_self": null,
            "height": null,
            "min_height": null,
            "padding": null,
            "grid_auto_rows": null,
            "grid_gap": null,
            "max_width": null,
            "order": null,
            "_view_module_version": "1.2.0",
            "grid_template_areas": null,
            "object_position": null,
            "object_fit": null,
            "grid_auto_columns": null,
            "margin": null,
            "display": null,
            "left": null
          }
        },
        "cbb64b2873a740c29c856019cb6212e6": {
          "model_module": "@jupyter-widgets/controls",
          "model_name": "DescriptionStyleModel",
          "state": {
            "_view_name": "StyleView",
            "_model_name": "DescriptionStyleModel",
            "description_width": "",
            "_view_module": "@jupyter-widgets/base",
            "_model_module_version": "1.5.0",
            "_view_count": null,
            "_view_module_version": "1.2.0",
            "_model_module": "@jupyter-widgets/controls"
          }
        },
        "b55727bc4d5d414aa872cba9d9291fae": {
          "model_module": "@jupyter-widgets/base",
          "model_name": "LayoutModel",
          "state": {
            "_view_name": "LayoutView",
            "grid_template_rows": null,
            "right": null,
            "justify_content": null,
            "_view_module": "@jupyter-widgets/base",
            "overflow": null,
            "_model_module_version": "1.2.0",
            "_view_count": null,
            "flex_flow": null,
            "width": null,
            "min_width": null,
            "border": null,
            "align_items": null,
            "bottom": null,
            "_model_module": "@jupyter-widgets/base",
            "top": null,
            "grid_column": null,
            "overflow_y": null,
            "overflow_x": null,
            "grid_auto_flow": null,
            "grid_area": null,
            "grid_template_columns": null,
            "flex": null,
            "_model_name": "LayoutModel",
            "justify_items": null,
            "grid_row": null,
            "max_height": null,
            "align_content": null,
            "visibility": null,
            "align_self": null,
            "height": null,
            "min_height": null,
            "padding": null,
            "grid_auto_rows": null,
            "grid_gap": null,
            "max_width": null,
            "order": null,
            "_view_module_version": "1.2.0",
            "grid_template_areas": null,
            "object_position": null,
            "object_fit": null,
            "grid_auto_columns": null,
            "margin": null,
            "display": null,
            "left": null
          }
        },
        "031180ae10b34f99833a7428126e4bf6": {
          "model_module": "@jupyter-widgets/controls",
          "model_name": "HBoxModel",
          "state": {
            "_view_name": "HBoxView",
            "_dom_classes": [],
            "_model_name": "HBoxModel",
            "_view_module": "@jupyter-widgets/controls",
            "_model_module_version": "1.5.0",
            "_view_count": null,
            "_view_module_version": "1.5.0",
            "box_style": "",
            "layout": "IPY_MODEL_fe43edb833c84f53807ca7b77247d103",
            "_model_module": "@jupyter-widgets/controls",
            "children": [
              "IPY_MODEL_1127c858630e49f990f5912f9bfc2e3d",
              "IPY_MODEL_f723483935394f64b6e372f7116e0a94"
            ]
          }
        },
        "fe43edb833c84f53807ca7b77247d103": {
          "model_module": "@jupyter-widgets/base",
          "model_name": "LayoutModel",
          "state": {
            "_view_name": "LayoutView",
            "grid_template_rows": null,
            "right": null,
            "justify_content": null,
            "_view_module": "@jupyter-widgets/base",
            "overflow": null,
            "_model_module_version": "1.2.0",
            "_view_count": null,
            "flex_flow": null,
            "width": null,
            "min_width": null,
            "border": null,
            "align_items": null,
            "bottom": null,
            "_model_module": "@jupyter-widgets/base",
            "top": null,
            "grid_column": null,
            "overflow_y": null,
            "overflow_x": null,
            "grid_auto_flow": null,
            "grid_area": null,
            "grid_template_columns": null,
            "flex": null,
            "_model_name": "LayoutModel",
            "justify_items": null,
            "grid_row": null,
            "max_height": null,
            "align_content": null,
            "visibility": null,
            "align_self": null,
            "height": null,
            "min_height": null,
            "padding": null,
            "grid_auto_rows": null,
            "grid_gap": null,
            "max_width": null,
            "order": null,
            "_view_module_version": "1.2.0",
            "grid_template_areas": null,
            "object_position": null,
            "object_fit": null,
            "grid_auto_columns": null,
            "margin": null,
            "display": null,
            "left": null
          }
        },
        "1127c858630e49f990f5912f9bfc2e3d": {
          "model_module": "@jupyter-widgets/controls",
          "model_name": "FloatProgressModel",
          "state": {
            "_view_name": "ProgressView",
            "style": "IPY_MODEL_d0f4a792c56d4443828a54af20fc6103",
            "_dom_classes": [],
            "description": "",
            "_model_name": "FloatProgressModel",
            "bar_style": "info",
            "max": 1,
            "_view_module": "@jupyter-widgets/controls",
            "_model_module_version": "1.5.0",
            "value": 1,
            "_view_count": null,
            "_view_module_version": "1.5.0",
            "orientation": "horizontal",
            "min": 0,
            "description_tooltip": null,
            "_model_module": "@jupyter-widgets/controls",
            "layout": "IPY_MODEL_3132c02916d849f5adcd98519520d62e"
          }
        },
        "f723483935394f64b6e372f7116e0a94": {
          "model_module": "@jupyter-widgets/controls",
          "model_name": "HTMLModel",
          "state": {
            "_view_name": "HTMLView",
            "style": "IPY_MODEL_7a1cf0d70186433a9c437eb13fee5460",
            "_dom_classes": [],
            "description": "",
            "_model_name": "HTMLModel",
            "placeholder": "​",
            "_view_module": "@jupyter-widgets/controls",
            "_model_module_version": "1.5.0",
            "value": " 13368/0 [00:09&lt;00:00, 1512.04 examples/s]",
            "_view_count": null,
            "_view_module_version": "1.5.0",
            "description_tooltip": null,
            "_model_module": "@jupyter-widgets/controls",
            "layout": "IPY_MODEL_613a249070a2492d97c26331ee8b4737"
          }
        },
        "d0f4a792c56d4443828a54af20fc6103": {
          "model_module": "@jupyter-widgets/controls",
          "model_name": "ProgressStyleModel",
          "state": {
            "_view_name": "StyleView",
            "_model_name": "ProgressStyleModel",
            "description_width": "initial",
            "_view_module": "@jupyter-widgets/base",
            "_model_module_version": "1.5.0",
            "_view_count": null,
            "_view_module_version": "1.2.0",
            "bar_color": null,
            "_model_module": "@jupyter-widgets/controls"
          }
        },
        "3132c02916d849f5adcd98519520d62e": {
          "model_module": "@jupyter-widgets/base",
          "model_name": "LayoutModel",
          "state": {
            "_view_name": "LayoutView",
            "grid_template_rows": null,
            "right": null,
            "justify_content": null,
            "_view_module": "@jupyter-widgets/base",
            "overflow": null,
            "_model_module_version": "1.2.0",
            "_view_count": null,
            "flex_flow": null,
            "width": null,
            "min_width": null,
            "border": null,
            "align_items": null,
            "bottom": null,
            "_model_module": "@jupyter-widgets/base",
            "top": null,
            "grid_column": null,
            "overflow_y": null,
            "overflow_x": null,
            "grid_auto_flow": null,
            "grid_area": null,
            "grid_template_columns": null,
            "flex": null,
            "_model_name": "LayoutModel",
            "justify_items": null,
            "grid_row": null,
            "max_height": null,
            "align_content": null,
            "visibility": null,
            "align_self": null,
            "height": null,
            "min_height": null,
            "padding": null,
            "grid_auto_rows": null,
            "grid_gap": null,
            "max_width": null,
            "order": null,
            "_view_module_version": "1.2.0",
            "grid_template_areas": null,
            "object_position": null,
            "object_fit": null,
            "grid_auto_columns": null,
            "margin": null,
            "display": null,
            "left": null
          }
        },
        "7a1cf0d70186433a9c437eb13fee5460": {
          "model_module": "@jupyter-widgets/controls",
          "model_name": "DescriptionStyleModel",
          "state": {
            "_view_name": "StyleView",
            "_model_name": "DescriptionStyleModel",
            "description_width": "",
            "_view_module": "@jupyter-widgets/base",
            "_model_module_version": "1.5.0",
            "_view_count": null,
            "_view_module_version": "1.2.0",
            "_model_module": "@jupyter-widgets/controls"
          }
        },
        "613a249070a2492d97c26331ee8b4737": {
          "model_module": "@jupyter-widgets/base",
          "model_name": "LayoutModel",
          "state": {
            "_view_name": "LayoutView",
            "grid_template_rows": null,
            "right": null,
            "justify_content": null,
            "_view_module": "@jupyter-widgets/base",
            "overflow": null,
            "_model_module_version": "1.2.0",
            "_view_count": null,
            "flex_flow": null,
            "width": null,
            "min_width": null,
            "border": null,
            "align_items": null,
            "bottom": null,
            "_model_module": "@jupyter-widgets/base",
            "top": null,
            "grid_column": null,
            "overflow_y": null,
            "overflow_x": null,
            "grid_auto_flow": null,
            "grid_area": null,
            "grid_template_columns": null,
            "flex": null,
            "_model_name": "LayoutModel",
            "justify_items": null,
            "grid_row": null,
            "max_height": null,
            "align_content": null,
            "visibility": null,
            "align_self": null,
            "height": null,
            "min_height": null,
            "padding": null,
            "grid_auto_rows": null,
            "grid_gap": null,
            "max_width": null,
            "order": null,
            "_view_module_version": "1.2.0",
            "grid_template_areas": null,
            "object_position": null,
            "object_fit": null,
            "grid_auto_columns": null,
            "margin": null,
            "display": null,
            "left": null
          }
        },
        "f4971ac0fb574056ad6ca15a36673c4e": {
          "model_module": "@jupyter-widgets/controls",
          "model_name": "HBoxModel",
          "state": {
            "_view_name": "HBoxView",
            "_dom_classes": [],
            "_model_name": "HBoxModel",
            "_view_module": "@jupyter-widgets/controls",
            "_model_module_version": "1.5.0",
            "_view_count": null,
            "_view_module_version": "1.5.0",
            "box_style": "",
            "layout": "IPY_MODEL_6ccbc11b0e14459297ed23cbfa936219",
            "_model_module": "@jupyter-widgets/controls",
            "children": [
              "IPY_MODEL_06679705c20c46e59c67d067ae6aa1ae",
              "IPY_MODEL_7710a5f26acf4292a466da3cb829c507"
            ]
          }
        },
        "6ccbc11b0e14459297ed23cbfa936219": {
          "model_module": "@jupyter-widgets/base",
          "model_name": "LayoutModel",
          "state": {
            "_view_name": "LayoutView",
            "grid_template_rows": null,
            "right": null,
            "justify_content": null,
            "_view_module": "@jupyter-widgets/base",
            "overflow": null,
            "_model_module_version": "1.2.0",
            "_view_count": null,
            "flex_flow": null,
            "width": null,
            "min_width": null,
            "border": null,
            "align_items": null,
            "bottom": null,
            "_model_module": "@jupyter-widgets/base",
            "top": null,
            "grid_column": null,
            "overflow_y": null,
            "overflow_x": null,
            "grid_auto_flow": null,
            "grid_area": null,
            "grid_template_columns": null,
            "flex": null,
            "_model_name": "LayoutModel",
            "justify_items": null,
            "grid_row": null,
            "max_height": null,
            "align_content": null,
            "visibility": null,
            "align_self": null,
            "height": null,
            "min_height": null,
            "padding": null,
            "grid_auto_rows": null,
            "grid_gap": null,
            "max_width": null,
            "order": null,
            "_view_module_version": "1.2.0",
            "grid_template_areas": null,
            "object_position": null,
            "object_fit": null,
            "grid_auto_columns": null,
            "margin": null,
            "display": null,
            "left": null
          }
        },
        "06679705c20c46e59c67d067ae6aa1ae": {
          "model_module": "@jupyter-widgets/controls",
          "model_name": "FloatProgressModel",
          "state": {
            "_view_name": "ProgressView",
            "style": "IPY_MODEL_a17c1eed318245ab8505f111dfa85070",
            "_dom_classes": [],
            "description": " 34%",
            "_model_name": "FloatProgressModel",
            "bar_style": "danger",
            "max": 13368,
            "_view_module": "@jupyter-widgets/controls",
            "_model_module_version": "1.5.0",
            "value": 4484,
            "_view_count": null,
            "_view_module_version": "1.5.0",
            "orientation": "horizontal",
            "min": 0,
            "description_tooltip": null,
            "_model_module": "@jupyter-widgets/controls",
            "layout": "IPY_MODEL_2fc8e30328d143e5b4d1ddf35deabc9d"
          }
        },
        "7710a5f26acf4292a466da3cb829c507": {
          "model_module": "@jupyter-widgets/controls",
          "model_name": "HTMLModel",
          "state": {
            "_view_name": "HTMLView",
            "style": "IPY_MODEL_8c2d4f4736af4d99bca65a3ca36d33f9",
            "_dom_classes": [],
            "description": "",
            "_model_name": "HTMLModel",
            "placeholder": "​",
            "_view_module": "@jupyter-widgets/controls",
            "_model_module_version": "1.5.0",
            "value": " 4484/13368 [00:00&lt;00:00, 44836.73 examples/s]",
            "_view_count": null,
            "_view_module_version": "1.5.0",
            "description_tooltip": null,
            "_model_module": "@jupyter-widgets/controls",
            "layout": "IPY_MODEL_0cfd5533a86a44c6b4d5a8514e991598"
          }
        },
        "a17c1eed318245ab8505f111dfa85070": {
          "model_module": "@jupyter-widgets/controls",
          "model_name": "ProgressStyleModel",
          "state": {
            "_view_name": "StyleView",
            "_model_name": "ProgressStyleModel",
            "description_width": "initial",
            "_view_module": "@jupyter-widgets/base",
            "_model_module_version": "1.5.0",
            "_view_count": null,
            "_view_module_version": "1.2.0",
            "bar_color": null,
            "_model_module": "@jupyter-widgets/controls"
          }
        },
        "2fc8e30328d143e5b4d1ddf35deabc9d": {
          "model_module": "@jupyter-widgets/base",
          "model_name": "LayoutModel",
          "state": {
            "_view_name": "LayoutView",
            "grid_template_rows": null,
            "right": null,
            "justify_content": null,
            "_view_module": "@jupyter-widgets/base",
            "overflow": null,
            "_model_module_version": "1.2.0",
            "_view_count": null,
            "flex_flow": null,
            "width": null,
            "min_width": null,
            "border": null,
            "align_items": null,
            "bottom": null,
            "_model_module": "@jupyter-widgets/base",
            "top": null,
            "grid_column": null,
            "overflow_y": null,
            "overflow_x": null,
            "grid_auto_flow": null,
            "grid_area": null,
            "grid_template_columns": null,
            "flex": null,
            "_model_name": "LayoutModel",
            "justify_items": null,
            "grid_row": null,
            "max_height": null,
            "align_content": null,
            "visibility": null,
            "align_self": null,
            "height": null,
            "min_height": null,
            "padding": null,
            "grid_auto_rows": null,
            "grid_gap": null,
            "max_width": null,
            "order": null,
            "_view_module_version": "1.2.0",
            "grid_template_areas": null,
            "object_position": null,
            "object_fit": null,
            "grid_auto_columns": null,
            "margin": null,
            "display": null,
            "left": null
          }
        },
        "8c2d4f4736af4d99bca65a3ca36d33f9": {
          "model_module": "@jupyter-widgets/controls",
          "model_name": "DescriptionStyleModel",
          "state": {
            "_view_name": "StyleView",
            "_model_name": "DescriptionStyleModel",
            "description_width": "",
            "_view_module": "@jupyter-widgets/base",
            "_model_module_version": "1.5.0",
            "_view_count": null,
            "_view_module_version": "1.2.0",
            "_model_module": "@jupyter-widgets/controls"
          }
        },
        "0cfd5533a86a44c6b4d5a8514e991598": {
          "model_module": "@jupyter-widgets/base",
          "model_name": "LayoutModel",
          "state": {
            "_view_name": "LayoutView",
            "grid_template_rows": null,
            "right": null,
            "justify_content": null,
            "_view_module": "@jupyter-widgets/base",
            "overflow": null,
            "_model_module_version": "1.2.0",
            "_view_count": null,
            "flex_flow": null,
            "width": null,
            "min_width": null,
            "border": null,
            "align_items": null,
            "bottom": null,
            "_model_module": "@jupyter-widgets/base",
            "top": null,
            "grid_column": null,
            "overflow_y": null,
            "overflow_x": null,
            "grid_auto_flow": null,
            "grid_area": null,
            "grid_template_columns": null,
            "flex": null,
            "_model_name": "LayoutModel",
            "justify_items": null,
            "grid_row": null,
            "max_height": null,
            "align_content": null,
            "visibility": null,
            "align_self": null,
            "height": null,
            "min_height": null,
            "padding": null,
            "grid_auto_rows": null,
            "grid_gap": null,
            "max_width": null,
            "order": null,
            "_view_module_version": "1.2.0",
            "grid_template_areas": null,
            "object_position": null,
            "object_fit": null,
            "grid_auto_columns": null,
            "margin": null,
            "display": null,
            "left": null
          }
        },
        "425cb93a3f55418791705ece3c1a8ade": {
          "model_module": "@jupyter-widgets/controls",
          "model_name": "HBoxModel",
          "state": {
            "_view_name": "HBoxView",
            "_dom_classes": [],
            "_model_name": "HBoxModel",
            "_view_module": "@jupyter-widgets/controls",
            "_model_module_version": "1.5.0",
            "_view_count": null,
            "_view_module_version": "1.5.0",
            "box_style": "",
            "layout": "IPY_MODEL_9db4340fe2814f8b848963293ea281c9",
            "_model_module": "@jupyter-widgets/controls",
            "children": [
              "IPY_MODEL_e2891b2b26bc4114a83e5b42bd04f24a",
              "IPY_MODEL_9a7fb915c3274b5a86ee178e8f545d5f"
            ]
          }
        },
        "9db4340fe2814f8b848963293ea281c9": {
          "model_module": "@jupyter-widgets/base",
          "model_name": "LayoutModel",
          "state": {
            "_view_name": "LayoutView",
            "grid_template_rows": null,
            "right": null,
            "justify_content": null,
            "_view_module": "@jupyter-widgets/base",
            "overflow": null,
            "_model_module_version": "1.2.0",
            "_view_count": null,
            "flex_flow": null,
            "width": null,
            "min_width": null,
            "border": null,
            "align_items": null,
            "bottom": null,
            "_model_module": "@jupyter-widgets/base",
            "top": null,
            "grid_column": null,
            "overflow_y": null,
            "overflow_x": null,
            "grid_auto_flow": null,
            "grid_area": null,
            "grid_template_columns": null,
            "flex": null,
            "_model_name": "LayoutModel",
            "justify_items": null,
            "grid_row": null,
            "max_height": null,
            "align_content": null,
            "visibility": null,
            "align_self": null,
            "height": null,
            "min_height": null,
            "padding": null,
            "grid_auto_rows": null,
            "grid_gap": null,
            "max_width": null,
            "order": null,
            "_view_module_version": "1.2.0",
            "grid_template_areas": null,
            "object_position": null,
            "object_fit": null,
            "grid_auto_columns": null,
            "margin": null,
            "display": null,
            "left": null
          }
        },
        "e2891b2b26bc4114a83e5b42bd04f24a": {
          "model_module": "@jupyter-widgets/controls",
          "model_name": "FloatProgressModel",
          "state": {
            "_view_name": "ProgressView",
            "style": "IPY_MODEL_2690694f25e74ab1a21573d4e506cb20",
            "_dom_classes": [],
            "description": "",
            "_model_name": "FloatProgressModel",
            "bar_style": "info",
            "max": 1,
            "_view_module": "@jupyter-widgets/controls",
            "_model_module_version": "1.5.0",
            "value": 1,
            "_view_count": null,
            "_view_module_version": "1.5.0",
            "orientation": "horizontal",
            "min": 0,
            "description_tooltip": null,
            "_model_module": "@jupyter-widgets/controls",
            "layout": "IPY_MODEL_51d67d744ab442408c7189a9222b0525"
          }
        },
        "9a7fb915c3274b5a86ee178e8f545d5f": {
          "model_module": "@jupyter-widgets/controls",
          "model_name": "HTMLModel",
          "state": {
            "_view_name": "HTMLView",
            "style": "IPY_MODEL_e95aef7f6d2e4b87b3e523f6fe9872fe",
            "_dom_classes": [],
            "description": "",
            "_model_name": "HTMLModel",
            "placeholder": "​",
            "_view_module": "@jupyter-widgets/controls",
            "_model_module_version": "1.5.0",
            "value": " 11490/0 [00:07&lt;00:00, 1421.29 examples/s]",
            "_view_count": null,
            "_view_module_version": "1.5.0",
            "description_tooltip": null,
            "_model_module": "@jupyter-widgets/controls",
            "layout": "IPY_MODEL_6257f84cfcd74bfba46bc9ade4f76ee8"
          }
        },
        "2690694f25e74ab1a21573d4e506cb20": {
          "model_module": "@jupyter-widgets/controls",
          "model_name": "ProgressStyleModel",
          "state": {
            "_view_name": "StyleView",
            "_model_name": "ProgressStyleModel",
            "description_width": "initial",
            "_view_module": "@jupyter-widgets/base",
            "_model_module_version": "1.5.0",
            "_view_count": null,
            "_view_module_version": "1.2.0",
            "bar_color": null,
            "_model_module": "@jupyter-widgets/controls"
          }
        },
        "51d67d744ab442408c7189a9222b0525": {
          "model_module": "@jupyter-widgets/base",
          "model_name": "LayoutModel",
          "state": {
            "_view_name": "LayoutView",
            "grid_template_rows": null,
            "right": null,
            "justify_content": null,
            "_view_module": "@jupyter-widgets/base",
            "overflow": null,
            "_model_module_version": "1.2.0",
            "_view_count": null,
            "flex_flow": null,
            "width": null,
            "min_width": null,
            "border": null,
            "align_items": null,
            "bottom": null,
            "_model_module": "@jupyter-widgets/base",
            "top": null,
            "grid_column": null,
            "overflow_y": null,
            "overflow_x": null,
            "grid_auto_flow": null,
            "grid_area": null,
            "grid_template_columns": null,
            "flex": null,
            "_model_name": "LayoutModel",
            "justify_items": null,
            "grid_row": null,
            "max_height": null,
            "align_content": null,
            "visibility": null,
            "align_self": null,
            "height": null,
            "min_height": null,
            "padding": null,
            "grid_auto_rows": null,
            "grid_gap": null,
            "max_width": null,
            "order": null,
            "_view_module_version": "1.2.0",
            "grid_template_areas": null,
            "object_position": null,
            "object_fit": null,
            "grid_auto_columns": null,
            "margin": null,
            "display": null,
            "left": null
          }
        },
        "e95aef7f6d2e4b87b3e523f6fe9872fe": {
          "model_module": "@jupyter-widgets/controls",
          "model_name": "DescriptionStyleModel",
          "state": {
            "_view_name": "StyleView",
            "_model_name": "DescriptionStyleModel",
            "description_width": "",
            "_view_module": "@jupyter-widgets/base",
            "_model_module_version": "1.5.0",
            "_view_count": null,
            "_view_module_version": "1.2.0",
            "_model_module": "@jupyter-widgets/controls"
          }
        },
        "6257f84cfcd74bfba46bc9ade4f76ee8": {
          "model_module": "@jupyter-widgets/base",
          "model_name": "LayoutModel",
          "state": {
            "_view_name": "LayoutView",
            "grid_template_rows": null,
            "right": null,
            "justify_content": null,
            "_view_module": "@jupyter-widgets/base",
            "overflow": null,
            "_model_module_version": "1.2.0",
            "_view_count": null,
            "flex_flow": null,
            "width": null,
            "min_width": null,
            "border": null,
            "align_items": null,
            "bottom": null,
            "_model_module": "@jupyter-widgets/base",
            "top": null,
            "grid_column": null,
            "overflow_y": null,
            "overflow_x": null,
            "grid_auto_flow": null,
            "grid_area": null,
            "grid_template_columns": null,
            "flex": null,
            "_model_name": "LayoutModel",
            "justify_items": null,
            "grid_row": null,
            "max_height": null,
            "align_content": null,
            "visibility": null,
            "align_self": null,
            "height": null,
            "min_height": null,
            "padding": null,
            "grid_auto_rows": null,
            "grid_gap": null,
            "max_width": null,
            "order": null,
            "_view_module_version": "1.2.0",
            "grid_template_areas": null,
            "object_position": null,
            "object_fit": null,
            "grid_auto_columns": null,
            "margin": null,
            "display": null,
            "left": null
          }
        },
        "5358e8cf587448198d7e040bf2d91352": {
          "model_module": "@jupyter-widgets/controls",
          "model_name": "HBoxModel",
          "state": {
            "_view_name": "HBoxView",
            "_dom_classes": [],
            "_model_name": "HBoxModel",
            "_view_module": "@jupyter-widgets/controls",
            "_model_module_version": "1.5.0",
            "_view_count": null,
            "_view_module_version": "1.5.0",
            "box_style": "",
            "layout": "IPY_MODEL_c8926037a93c4b67904ba48f0ac612b5",
            "_model_module": "@jupyter-widgets/controls",
            "children": [
              "IPY_MODEL_8d43d016921549999953e63b4e3b15fb",
              "IPY_MODEL_f7aed3298a094a90885c6e8d5e86f60f"
            ]
          }
        },
        "c8926037a93c4b67904ba48f0ac612b5": {
          "model_module": "@jupyter-widgets/base",
          "model_name": "LayoutModel",
          "state": {
            "_view_name": "LayoutView",
            "grid_template_rows": null,
            "right": null,
            "justify_content": null,
            "_view_module": "@jupyter-widgets/base",
            "overflow": null,
            "_model_module_version": "1.2.0",
            "_view_count": null,
            "flex_flow": null,
            "width": null,
            "min_width": null,
            "border": null,
            "align_items": null,
            "bottom": null,
            "_model_module": "@jupyter-widgets/base",
            "top": null,
            "grid_column": null,
            "overflow_y": null,
            "overflow_x": null,
            "grid_auto_flow": null,
            "grid_area": null,
            "grid_template_columns": null,
            "flex": null,
            "_model_name": "LayoutModel",
            "justify_items": null,
            "grid_row": null,
            "max_height": null,
            "align_content": null,
            "visibility": null,
            "align_self": null,
            "height": null,
            "min_height": null,
            "padding": null,
            "grid_auto_rows": null,
            "grid_gap": null,
            "max_width": null,
            "order": null,
            "_view_module_version": "1.2.0",
            "grid_template_areas": null,
            "object_position": null,
            "object_fit": null,
            "grid_auto_columns": null,
            "margin": null,
            "display": null,
            "left": null
          }
        },
        "8d43d016921549999953e63b4e3b15fb": {
          "model_module": "@jupyter-widgets/controls",
          "model_name": "FloatProgressModel",
          "state": {
            "_view_name": "ProgressView",
            "style": "IPY_MODEL_6fb1ab97a65e4e64b200e5c49941705b",
            "_dom_classes": [],
            "description": " 29%",
            "_model_name": "FloatProgressModel",
            "bar_style": "danger",
            "max": 11490,
            "_view_module": "@jupyter-widgets/controls",
            "_model_module_version": "1.5.0",
            "value": 3321,
            "_view_count": null,
            "_view_module_version": "1.5.0",
            "orientation": "horizontal",
            "min": 0,
            "description_tooltip": null,
            "_model_module": "@jupyter-widgets/controls",
            "layout": "IPY_MODEL_0ab0db5ec77f4db68d2f48b67fd4251a"
          }
        },
        "f7aed3298a094a90885c6e8d5e86f60f": {
          "model_module": "@jupyter-widgets/controls",
          "model_name": "HTMLModel",
          "state": {
            "_view_name": "HTMLView",
            "style": "IPY_MODEL_a2dde097a3374d729fb079cf1b5d664e",
            "_dom_classes": [],
            "description": "",
            "_model_name": "HTMLModel",
            "placeholder": "​",
            "_view_module": "@jupyter-widgets/controls",
            "_model_module_version": "1.5.0",
            "value": " 3321/11490 [00:00&lt;00:00, 33206.94 examples/s]",
            "_view_count": null,
            "_view_module_version": "1.5.0",
            "description_tooltip": null,
            "_model_module": "@jupyter-widgets/controls",
            "layout": "IPY_MODEL_351da2d9d97941f59d16d5bab1960e2c"
          }
        },
        "6fb1ab97a65e4e64b200e5c49941705b": {
          "model_module": "@jupyter-widgets/controls",
          "model_name": "ProgressStyleModel",
          "state": {
            "_view_name": "StyleView",
            "_model_name": "ProgressStyleModel",
            "description_width": "initial",
            "_view_module": "@jupyter-widgets/base",
            "_model_module_version": "1.5.0",
            "_view_count": null,
            "_view_module_version": "1.2.0",
            "bar_color": null,
            "_model_module": "@jupyter-widgets/controls"
          }
        },
        "0ab0db5ec77f4db68d2f48b67fd4251a": {
          "model_module": "@jupyter-widgets/base",
          "model_name": "LayoutModel",
          "state": {
            "_view_name": "LayoutView",
            "grid_template_rows": null,
            "right": null,
            "justify_content": null,
            "_view_module": "@jupyter-widgets/base",
            "overflow": null,
            "_model_module_version": "1.2.0",
            "_view_count": null,
            "flex_flow": null,
            "width": null,
            "min_width": null,
            "border": null,
            "align_items": null,
            "bottom": null,
            "_model_module": "@jupyter-widgets/base",
            "top": null,
            "grid_column": null,
            "overflow_y": null,
            "overflow_x": null,
            "grid_auto_flow": null,
            "grid_area": null,
            "grid_template_columns": null,
            "flex": null,
            "_model_name": "LayoutModel",
            "justify_items": null,
            "grid_row": null,
            "max_height": null,
            "align_content": null,
            "visibility": null,
            "align_self": null,
            "height": null,
            "min_height": null,
            "padding": null,
            "grid_auto_rows": null,
            "grid_gap": null,
            "max_width": null,
            "order": null,
            "_view_module_version": "1.2.0",
            "grid_template_areas": null,
            "object_position": null,
            "object_fit": null,
            "grid_auto_columns": null,
            "margin": null,
            "display": null,
            "left": null
          }
        },
        "a2dde097a3374d729fb079cf1b5d664e": {
          "model_module": "@jupyter-widgets/controls",
          "model_name": "DescriptionStyleModel",
          "state": {
            "_view_name": "StyleView",
            "_model_name": "DescriptionStyleModel",
            "description_width": "",
            "_view_module": "@jupyter-widgets/base",
            "_model_module_version": "1.5.0",
            "_view_count": null,
            "_view_module_version": "1.2.0",
            "_model_module": "@jupyter-widgets/controls"
          }
        },
        "351da2d9d97941f59d16d5bab1960e2c": {
          "model_module": "@jupyter-widgets/base",
          "model_name": "LayoutModel",
          "state": {
            "_view_name": "LayoutView",
            "grid_template_rows": null,
            "right": null,
            "justify_content": null,
            "_view_module": "@jupyter-widgets/base",
            "overflow": null,
            "_model_module_version": "1.2.0",
            "_view_count": null,
            "flex_flow": null,
            "width": null,
            "min_width": null,
            "border": null,
            "align_items": null,
            "bottom": null,
            "_model_module": "@jupyter-widgets/base",
            "top": null,
            "grid_column": null,
            "overflow_y": null,
            "overflow_x": null,
            "grid_auto_flow": null,
            "grid_area": null,
            "grid_template_columns": null,
            "flex": null,
            "_model_name": "LayoutModel",
            "justify_items": null,
            "grid_row": null,
            "max_height": null,
            "align_content": null,
            "visibility": null,
            "align_self": null,
            "height": null,
            "min_height": null,
            "padding": null,
            "grid_auto_rows": null,
            "grid_gap": null,
            "max_width": null,
            "order": null,
            "_view_module_version": "1.2.0",
            "grid_template_areas": null,
            "object_position": null,
            "object_fit": null,
            "grid_auto_columns": null,
            "margin": null,
            "display": null,
            "left": null
          }
        }
      }
    }
  },
  "cells": [
    {
      "cell_type": "markdown",
      "metadata": {
        "id": "view-in-github",
        "colab_type": "text"
      },
      "source": [
        "<a href=\"https://colab.research.google.com/github/nRadis/info2049/blob/main/info2049.ipynb\" target=\"_parent\"><img src=\"https://colab.research.google.com/assets/colab-badge.svg\" alt=\"Open In Colab\"/></a>"
      ]
    },
    {
      "cell_type": "markdown",
      "metadata": {
        "id": "y9pAMe-nNEfw"
      },
      "source": [
        "#[INFO2049] Assignement 2 : Practical Project\n",
        "\n",
        "Authors: Nicolas Radis & Antoine Dekyvere\n",
        "\n",
        "Date: November 2020\n"
      ]
    },
    {
      "cell_type": "markdown",
      "metadata": {
        "id": "SfFZLal7NRM0"
      },
      "source": [
        "# Introduction\n",
        "\n",
        "For this project, we had the choice between several interesting subjects. We have decided to choose: \"Text Summarization\". We are going to implement a seq2seq summarization system with, as insipartion, the following paper from Nallapati et al. : https://openreview.net/pdf?id=gZ9OMgQWoIAPowrRUAN6"
      ]
    },
    {
      "cell_type": "markdown",
      "metadata": {
        "id": "NN5iyeK-Nafd"
      },
      "source": [
        "# Theoretical focus\n",
        "\n",
        "In this section, we will describe the different important steps we have gone through in order to successfully complete our implementation.\n",
        "\n",
        "\n",
        "\n",
        "1.   What is Text Summarization in Natural Language Processing ?\n",
        "2.   Seq2Seq Modeling\n",
        "1.   Text Representation\n",
        "2.   Performance Measures\n",
        "\n",
        "\n",
        "\n",
        "\n",
        "\n"
      ]
    },
    {
      "cell_type": "markdown",
      "metadata": {
        "id": "Vi1m-uUAQqfA"
      },
      "source": [
        "## 1. What is Text Summarization in Natural Language Processing\n",
        "\n",
        "\"Automatic text summarization is the task of producing a concise and fluent summary while preserving key information content and overall meaning\".\n",
        "\n",
        "There are 2 different approaches to automatic summarization : **Extractive** & **Abstractive**.\n",
        "\n",
        "The **extractive** approach consists of taking passages from the source text and rearranging them in order to form a summary.\n",
        "\n",
        "The **abstractive** approach creates a summary with completly new sentences.\n",
        "\n",
        "In this project, we will implement the abstractive approach. Indeed, it is more intresting because it can generate more human-like summaries than the extractive approach. Moreover, it is more challenging to automatically generate new sentences than just select pieces of text.\n",
        "\n"
      ]
    },
    {
      "cell_type": "markdown",
      "metadata": {
        "id": "SNQh2JLKSG17"
      },
      "source": [
        "## 2. Seq2Seq Modeling (Encoder & Decoder)\n",
        "\n",
        "A **Seq2Seq model** (sequence to sequence) is a kind of model using an **Encoder** and a **Decoder** on top of the model. As in our case, the objective is to build a text summarizer where the input is a long sequence of words (articles) and the output is a summary (titles), the model will be designed as a Many-to-Many Seq2Seq problem.\n",
        "\n",
        "![](https://drive.google.com/uc?export=view&id=14QMShhJRreE4RlLQD9xtpcMa-G0llNCX)(https://docs.chainer.org/en/stable/examples/seq2seq.html)\n",
        "\n",
        "As we can see on the diagram above, we will use RNN (Recurrent Neural Network). RNN is a type of neural network which takes time into conisderation and also it takes the output from the previous step. RNN fits our needs because text summarization demands to understand the semantic and syntactic of the sentences, and RNNs bring us this understanding.\n",
        "\n",
        "\n",
        "Here is how a encoder - decoder works.\n",
        "\n",
        "The encoder will encode the input sentence word by word in sequence. The encoder consits of an embedding layer (see next point) and a recurrent layer ,as we can see on the diagram above. The recurrent layer generates the hidden vectors from the embedding vectors. The hidden vector of the last time step is then used to initialize the decoder.\n",
        "\n",
        "The decoder will decode the input from the encoder output. It will try to predict the next output and try to use it as the next input if it's possible. In other words, the decoder is trained to predict the next word in the sequence given the previous words.\n",
        "\n",
        "\n",
        "\n",
        "\n",
        "\n"
      ]
    },
    {
      "cell_type": "markdown",
      "metadata": {
        "id": "yWdnuIbXAecB"
      },
      "source": [
        "## 3. Text representation\n",
        "\n",
        "For the text summarization to work, we will first represent the words in a dictionary format. In other words, we will map all the words to an integer.\n",
        "For instance, for this article = \"Very good Article\", we will have the following dictionary.\n",
        "\n",
        "\n",
        "\n",
        "```\n",
        "dict[\"Very\"] = 0\n",
        "dict[\"good\"] = 1\n",
        "dict[\"Article\"] = 2\n",
        "```\n",
        "\n",
        "The reverse operation also need to be implemented\n",
        "\n",
        "\n",
        "\n",
        "```\n",
        "reverse_dict[0] = \"Very\"\n",
        "reverse_dict[1] = \"good\"\n",
        "reverse_dict[2] = \"Article\"\n",
        "```\n",
        "\n",
        "We will also preprocess the data with several methods explained in the \"Implementation\" part. For the Seq2Seq algorithm to work properly, four built-in words will be used:\n",
        "\n",
        "\n",
        "1.   \\<PAD>  :  Used to make the sequences of same length\n",
        "1.   \\<UNK>  :  Used to identify that a word is not in the dictionary\n",
        "2.   \\<BOS>  :  Used to identify the begining of a sentence\n",
        "2.   \\<EOS>  :  Used to identify the end of a sentence\n",
        "\n",
        "Afterwards, we need to represent the words with a format that the neural network would understand : Word Embeddings.\n",
        "\n",
        "This concept consist in mapping all words of the dictionary to vector of real numbers. There are already trained models (Word2Vec, Glove, FastText ...) that have been trained over millions of texts to correctly model the words.\n",
        "Once the words are correctly models, the neural network will be able to \"understand\" the text of the articles, and thus make a summary of it.\n",
        "\n",
        "\n",
        "\n",
        "\n",
        "\n"
      ]
    },
    {
      "cell_type": "markdown",
      "metadata": {
        "id": "JheRbi4u2C13"
      },
      "source": [
        "## 4. Performance Measures\n",
        "\n",
        "blablaba"
      ]
    },
    {
      "cell_type": "markdown",
      "metadata": {
        "id": "1LzLDbEISN65"
      },
      "source": [
        "# Implementation\n",
        "\n",
        "The implementation will be divided in several parts:\n",
        "\n",
        "1.   Connection to Google Drive\n",
        "1.   Data Loading\n",
        "1.   Data pre-processing\n",
        "1.   Word Embeddings\n",
        "2.   Élément de liste\n",
        "2.   Élément de liste\n",
        "2.   Élément de liste\n",
        "2.   Élément de liste\n",
        "2.   Élément de liste\n",
        "\n"
      ]
    },
    {
      "cell_type": "code",
      "metadata": {
        "id": "XS7tX8PAncH_",
        "outputId": "2c04b201-d015-4f10-f9a3-d8778db148a5",
        "colab": {
          "base_uri": "https://localhost:8080/"
        }
      },
      "source": [
        "import numpy as np\n",
        "import pandas as pd\n",
        "from nltk.corpus import stopwords\n",
        "\n",
        "import pathlib\n",
        "import os\n",
        "import re\n",
        "import time\n",
        "\n",
        "import tensorflow as tf\n",
        "import tensorflow_hub as hub\n",
        "import tensorflow_datasets as tfds\n",
        "\n",
        "import matplotlib.pyplot as plt\n",
        "\n",
        "print(\"Version: \", tf.__version__)\n",
        "print(\"Eager mode: \", tf.executing_eagerly())\n",
        "print(\"Hub version: \", hub.__version__)\n",
        "print(\"GPU is\", \"available\" if tf.config.list_physical_devices('GPU') else \"NOT AVAILABLE\")"
      ],
      "execution_count": 1,
      "outputs": [
        {
          "output_type": "stream",
          "text": [
            "Version:  2.3.0\n",
            "Eager mode:  True\n",
            "Hub version:  0.10.0\n",
            "GPU is available\n"
          ],
          "name": "stdout"
        }
      ]
    },
    {
      "cell_type": "markdown",
      "metadata": {
        "id": "pq126PtxpIY9"
      },
      "source": [
        "## 1. Connection to Google Drive\n",
        "\n",
        "\n",
        "We will load the data directly from a Google Drive so there is no need to deal with these data directly on our computer disks.\n",
        "\n",
        "The dataset that we will use for this project is the articles from CNN and DailyMail (https://www.tensorflow.org/datasets/catalog/cnn_dailymail).\n",
        "\n",
        "It contains, in one hand, the titles of the articles, and in the other hand their content."
      ]
    },
    {
      "cell_type": "code",
      "metadata": {
        "id": "KEsffGVhsVRm",
        "outputId": "ec96439d-7eb4-46b5-b97c-a6de713dff17",
        "colab": {
          "base_uri": "https://localhost:8080/"
        }
      },
      "source": [
        "from google.colab import drive\n",
        "drive.mount('/content/drive')\n",
        "path = \"/content/drive/My Drive/\""
      ],
      "execution_count": 2,
      "outputs": [
        {
          "output_type": "stream",
          "text": [
            "Drive already mounted at /content/drive; to attempt to forcibly remount, call drive.mount(\"/content/drive\", force_remount=True).\n"
          ],
          "name": "stdout"
        }
      ]
    },
    {
      "cell_type": "markdown",
      "metadata": {
        "id": "pnw1p0nW75bq"
      },
      "source": [
        "## 2. Data Loading"
      ]
    },
    {
      "cell_type": "code",
      "metadata": {
        "id": "wJHv6jsne9Vm",
        "outputId": "9a007899-2dd6-4111-d04e-310b7a96dc37",
        "colab": {
          "base_uri": "https://localhost:8080/",
          "height": 450,
          "referenced_widgets": [
            "d829c22bec0e4b648e28f914340f441f",
            "50744deb4c1348d1a61f84f58cef7eab",
            "5f09d7662a84490183e967daf163aaef",
            "61955268337d46b4beab4bb1a79db9a2",
            "d9a46e225c7e4d71bf5755b4cca85504",
            "495bcb12b4ad468ba403849262738b2e",
            "43859a21ab7a42f98773a6665451e228",
            "c43827317f4b4129beeebde7b02db2ab",
            "580c73c130074d2fa2beb3d103645208",
            "49a88b839fcc45608d348c882265124f",
            "1ad1f8f1b68c424abc5259666165843a",
            "638b6a56223d4db78726b69e574c6eca",
            "0c06bbc317aa46e2a122ded0c95eb4ac",
            "63858c38d854438db25a86fe0b3380fb",
            "f7a2aec94320440480ef9004406ab535",
            "b745394e57294c23bc44d9a400354f28",
            "b264b779672d4fd28e1f6778bf46b029",
            "e35d19ffb3af46efb7f0b6ee9a5239ac",
            "e7bbdd4c92c042619ffa3f36fc10fbea",
            "b5132fe83ac646018ca600f8939ae0a7",
            "9f80c7f7ecd840608058194010b09f79",
            "8eaf2144129b4546b8044a2317e6246e",
            "da7d7c8a1701491f99995439f5ecd615",
            "4e98fb2e48134275986f2a707f9750de",
            "ea62b32e5ec3492d9512e7f5fa4fd87f",
            "286bb7559c254524b6473e826b8bff73",
            "e0c8fcf6590b475aa7fb7bb8a77d7d18",
            "4a124dd9272147538ce56154d21dcc03",
            "ee01720415744650ab136d00d7fa622d",
            "516822cd3cd04a02b630d58948fcd452",
            "7c20ae12fa474ccea41cfd00de648051",
            "f02509c1a50740a5b374244560bd75be",
            "6f57e33711ac4d9f8ee73b1cc7912693",
            "769cc10907f24e0a92c441e300202a7d",
            "2f44eb05082f425086da093117e4e9d8",
            "b3a05758fe7d4df583818fa3bcc9b5b2",
            "23390a5563984b509024a5afcdf2e2a3",
            "3c223ff436834948b1c4be85dcd6fa86",
            "cbb64b2873a740c29c856019cb6212e6",
            "b55727bc4d5d414aa872cba9d9291fae",
            "031180ae10b34f99833a7428126e4bf6",
            "fe43edb833c84f53807ca7b77247d103",
            "1127c858630e49f990f5912f9bfc2e3d",
            "f723483935394f64b6e372f7116e0a94",
            "d0f4a792c56d4443828a54af20fc6103",
            "3132c02916d849f5adcd98519520d62e",
            "7a1cf0d70186433a9c437eb13fee5460",
            "613a249070a2492d97c26331ee8b4737",
            "f4971ac0fb574056ad6ca15a36673c4e",
            "6ccbc11b0e14459297ed23cbfa936219",
            "06679705c20c46e59c67d067ae6aa1ae",
            "7710a5f26acf4292a466da3cb829c507",
            "a17c1eed318245ab8505f111dfa85070",
            "2fc8e30328d143e5b4d1ddf35deabc9d",
            "8c2d4f4736af4d99bca65a3ca36d33f9",
            "0cfd5533a86a44c6b4d5a8514e991598",
            "425cb93a3f55418791705ece3c1a8ade",
            "9db4340fe2814f8b848963293ea281c9",
            "e2891b2b26bc4114a83e5b42bd04f24a",
            "9a7fb915c3274b5a86ee178e8f545d5f",
            "2690694f25e74ab1a21573d4e506cb20",
            "51d67d744ab442408c7189a9222b0525",
            "e95aef7f6d2e4b87b3e523f6fe9872fe",
            "6257f84cfcd74bfba46bc9ade4f76ee8",
            "5358e8cf587448198d7e040bf2d91352",
            "c8926037a93c4b67904ba48f0ac612b5",
            "8d43d016921549999953e63b4e3b15fb",
            "f7aed3298a094a90885c6e8d5e86f60f",
            "6fb1ab97a65e4e64b200e5c49941705b",
            "0ab0db5ec77f4db68d2f48b67fd4251a",
            "a2dde097a3374d729fb079cf1b5d664e",
            "351da2d9d97941f59d16d5bab1960e2c"
          ]
        }
      },
      "source": [
        "train_data, test_data = tfds.load(name=\"cnn_dailymail\", split=[\"train\", \"test\"], \n",
        "                                  batch_size=-1, as_supervised=True)\n",
        "\n",
        "train_articles_b, train_titles_b = tfds.as_numpy(train_data)\n",
        "test_articles_b, test_titles_b = tfds.as_numpy(test_data)"
      ],
      "execution_count": 3,
      "outputs": [
        {
          "output_type": "stream",
          "text": [
            "\u001b[1mDownloading and preparing dataset cnn_dailymail/plain_text/3.0.0 (download: 558.32 MiB, generated: 1.27 GiB, total: 1.82 GiB) to /root/tensorflow_datasets/cnn_dailymail/plain_text/3.0.0...\u001b[0m\n"
          ],
          "name": "stdout"
        },
        {
          "output_type": "display_data",
          "data": {
            "application/vnd.jupyter.widget-view+json": {
              "model_id": "d829c22bec0e4b648e28f914340f441f",
              "version_minor": 0,
              "version_major": 2
            },
            "text/plain": [
              "HBox(children=(FloatProgress(value=1.0, bar_style='info', description='Dl Completed...', max=1.0, style=Progre…"
            ]
          },
          "metadata": {
            "tags": []
          }
        },
        {
          "output_type": "display_data",
          "data": {
            "application/vnd.jupyter.widget-view+json": {
              "model_id": "580c73c130074d2fa2beb3d103645208",
              "version_minor": 0,
              "version_major": 2
            },
            "text/plain": [
              "HBox(children=(FloatProgress(value=1.0, bar_style='info', description='Dl Size...', max=1.0, style=ProgressSty…"
            ]
          },
          "metadata": {
            "tags": []
          }
        },
        {
          "output_type": "display_data",
          "data": {
            "application/vnd.jupyter.widget-view+json": {
              "model_id": "b264b779672d4fd28e1f6778bf46b029",
              "version_minor": 0,
              "version_major": 2
            },
            "text/plain": [
              "HBox(children=(FloatProgress(value=1.0, bar_style='info', description='Extraction completed...', max=1.0, styl…"
            ]
          },
          "metadata": {
            "tags": []
          }
        },
        {
          "output_type": "stream",
          "text": [
            "\n",
            "\n",
            "\n",
            "\n",
            "\n",
            "\n"
          ],
          "name": "stdout"
        },
        {
          "output_type": "display_data",
          "data": {
            "application/vnd.jupyter.widget-view+json": {
              "model_id": "ea62b32e5ec3492d9512e7f5fa4fd87f",
              "version_minor": 0,
              "version_major": 2
            },
            "text/plain": [
              "HBox(children=(FloatProgress(value=1.0, bar_style='info', max=1.0), HTML(value='')))"
            ]
          },
          "metadata": {
            "tags": []
          }
        },
        {
          "output_type": "stream",
          "text": [
            "\rShuffling and writing examples to /root/tensorflow_datasets/cnn_dailymail/plain_text/3.0.0.incompletePHXSP6/cnn_dailymail-train.tfrecord\n"
          ],
          "name": "stdout"
        },
        {
          "output_type": "display_data",
          "data": {
            "application/vnd.jupyter.widget-view+json": {
              "model_id": "6f57e33711ac4d9f8ee73b1cc7912693",
              "version_minor": 0,
              "version_major": 2
            },
            "text/plain": [
              "HBox(children=(FloatProgress(value=0.0, max=287113.0), HTML(value='')))"
            ]
          },
          "metadata": {
            "tags": []
          }
        },
        {
          "output_type": "display_data",
          "data": {
            "application/vnd.jupyter.widget-view+json": {
              "model_id": "031180ae10b34f99833a7428126e4bf6",
              "version_minor": 0,
              "version_major": 2
            },
            "text/plain": [
              "HBox(children=(FloatProgress(value=1.0, bar_style='info', max=1.0), HTML(value='')))"
            ]
          },
          "metadata": {
            "tags": []
          }
        },
        {
          "output_type": "stream",
          "text": [
            "\rShuffling and writing examples to /root/tensorflow_datasets/cnn_dailymail/plain_text/3.0.0.incompletePHXSP6/cnn_dailymail-validation.tfrecord\n"
          ],
          "name": "stdout"
        },
        {
          "output_type": "display_data",
          "data": {
            "application/vnd.jupyter.widget-view+json": {
              "model_id": "f4971ac0fb574056ad6ca15a36673c4e",
              "version_minor": 0,
              "version_major": 2
            },
            "text/plain": [
              "HBox(children=(FloatProgress(value=0.0, max=13368.0), HTML(value='')))"
            ]
          },
          "metadata": {
            "tags": []
          }
        },
        {
          "output_type": "stream",
          "text": [
            "\r"
          ],
          "name": "stdout"
        },
        {
          "output_type": "display_data",
          "data": {
            "application/vnd.jupyter.widget-view+json": {
              "model_id": "425cb93a3f55418791705ece3c1a8ade",
              "version_minor": 0,
              "version_major": 2
            },
            "text/plain": [
              "HBox(children=(FloatProgress(value=1.0, bar_style='info', max=1.0), HTML(value='')))"
            ]
          },
          "metadata": {
            "tags": []
          }
        },
        {
          "output_type": "stream",
          "text": [
            "\rShuffling and writing examples to /root/tensorflow_datasets/cnn_dailymail/plain_text/3.0.0.incompletePHXSP6/cnn_dailymail-test.tfrecord\n"
          ],
          "name": "stdout"
        },
        {
          "output_type": "display_data",
          "data": {
            "application/vnd.jupyter.widget-view+json": {
              "model_id": "5358e8cf587448198d7e040bf2d91352",
              "version_minor": 0,
              "version_major": 2
            },
            "text/plain": [
              "HBox(children=(FloatProgress(value=0.0, max=11490.0), HTML(value='')))"
            ]
          },
          "metadata": {
            "tags": []
          }
        },
        {
          "output_type": "stream",
          "text": [
            "WARNING:absl:Dataset is using deprecated text encoder API which will be removed soon. Please use the plain_text version of the dataset and migrate to `tensorflow_text`.\n",
            "WARNING:absl:Dataset is using deprecated text encoder API which will be removed soon. Please use the plain_text version of the dataset and migrate to `tensorflow_text`.\n"
          ],
          "name": "stderr"
        },
        {
          "output_type": "stream",
          "text": [
            "\u001b[1mDataset cnn_dailymail downloaded and prepared to /root/tensorflow_datasets/cnn_dailymail/plain_text/3.0.0. Subsequent calls will reuse this data.\u001b[0m\n",
            "\r"
          ],
          "name": "stdout"
        }
      ]
    },
    {
      "cell_type": "markdown",
      "metadata": {
        "id": "p18DiRS-8-gA"
      },
      "source": [
        "Let's inspect the data that we have loaded."
      ]
    },
    {
      "cell_type": "code",
      "metadata": {
        "id": "_uiJXNqfh5UQ",
        "outputId": "088c9b9c-98cc-457b-dc70-2693328f58a3",
        "colab": {
          "base_uri": "https://localhost:8080/"
        }
      },
      "source": [
        "# Check the number of entries\n",
        "print(\"Training entries: {}\".format(len(train_articles_b)))\n",
        "print(\"Test entries: {}\".format(len(test_articles_b)))\n",
        "\n",
        "# Print 5 articles and 5 title to see the loaded data\n",
        "print(\"Here are 5 articles : \")\n",
        "print(train_articles_b[:5])\n",
        "\n",
        "print(\"\\n\\n\")\n",
        "\n",
        "print(\"Here are the 5 titles corresponding to previous articles : \")\n",
        "print(train_titles_b[:5])"
      ],
      "execution_count": 4,
      "outputs": [
        {
          "output_type": "stream",
          "text": [
            "Training entries: 287113\n",
            "Test entries: 11490\n",
            "Here are 5 articles : \n",
            "[b\"By . Associated Press . PUBLISHED: . 14:11 EST, 25 October 2013 . | . UPDATED: . 15:36 EST, 25 October 2013 . The bishop of the Fargo Catholic Diocese in North Dakota has exposed potentially hundreds of church members in Fargo, Grand Forks and Jamestown to the hepatitis A virus in late September and early October. The state Health Department has issued an advisory of exposure for anyone who attended five churches and took communion. Bishop John Folda (pictured) of the Fargo Catholic Diocese in North Dakota has exposed potentially hundreds of church members in Fargo, Grand Forks and Jamestown to the hepatitis A . State Immunization Program Manager Molly Howell says the risk is low, but officials feel it's important to alert people to the possible exposure. The diocese announced on Monday that Bishop John Folda is taking time off after being diagnosed with hepatitis A. The diocese says he contracted the infection through contaminated food while attending a conference for newly ordained bishops in Italy last month. Symptoms of hepatitis A include fever, tiredness, loss of appetite, nausea and abdominal discomfort. Fargo Catholic Diocese in North Dakota (pictured) is where the bishop is located .\"\n",
            " b'(CNN) -- Ralph Mata was an internal affairs lieutenant for the Miami-Dade Police Department, working in the division that investigates allegations of wrongdoing by cops. Outside the office, authorities allege that the 45-year-old longtime officer worked with a drug trafficking organization to help plan a murder plot and get guns. A criminal complaint unsealed in U.S. District Court in New Jersey Tuesday accuses Mata, also known as \"The Milk Man,\" of using his role as a police officer to help the drug trafficking organization in exchange for money and gifts, including a Rolex watch. In one instance, the complaint alleges, Mata arranged to pay two assassins to kill rival drug dealers. The killers would pose as cops, pulling over their targets before shooting them, according to the complaint. \"Ultimately, the (organization) decided not to move forward with the murder plot, but Mata still received a payment for setting up the meetings,\" federal prosecutors said in a statement. The complaint also alleges that Mata used his police badge to purchase weapons for drug traffickers. Mata, according to the complaint, then used contacts at the airport to transport the weapons in his carry-on luggage on trips from Miami to the Dominican Republic. Court documents released by investigators do not specify the name of the drug trafficking organization with which Mata allegedly conspired but says the organization has been importing narcotics from places such as Ecuador and the Dominican Republic by hiding them \"inside shipping containers containing pallets of produce, including bananas.\" The organization \"has been distributing narcotics in New Jersey and elsewhere,\" the complaint says. Authorities arrested Mata on Tuesday in Miami Gardens, Florida. It was not immediately clear whether Mata has an attorney, and police officials could not be immediately reached for comment. Mata has worked for the Miami-Dade Police Department since 1992, including directing investigations in Miami Gardens and working as a lieutenant in the K-9 unit at Miami International Airport, according to the complaint. Since March 2010, he had been working in the internal affairs division. Mata faces charges of aiding and abetting a conspiracy to distribute cocaine, conspiring to distribute cocaine and engaging in monetary transactions in property derived from specified unlawful activity. He is scheduled to appear in federal court in Florida on Wednesday. If convicted, Mata could face life in prison. CNN\\'s Suzanne Presto contributed to this report.'\n",
            " b\"A drunk driver who killed a young woman in a head-on crash while checking his mobile phone has been jailed for six years. Craig Eccleston-Todd, 27, was driving home from a night at a pub when he received a text message. As he was reading or replying to it, he veered across the road while driving round a bend and smashed into Rachel Titley\\xe2\\x80\\x99s car coming the other way. Craig Eccleston-Todd, 27 (left) was using his mobile phone when he crashed head-on into the car being driven by Rachel Titley, 28 (right). She died later from her injuries . The head-on crash took place in October 2013. Mr Eccleston-Todd's car was barely recognisable (pictured) Police said Eccleston-Todd had drunk at least three or four pints of beer before getting behind the wheel. He was found guilty of causing death by dangerous driving at Portsmouth Crown Court yesterday. Miss Titley, a 28-year-old solicitor\\xe2\\x80\\x99s clerk from Cowes, Isle of Wight, had also spent the evening with friends at a pub but had not drunk any alcohol, police said. She was driving responsibly and there was \\xe2\\x80\\x98nothing she could have done to avoid the collision\\xe2\\x80\\x99, they added. Lindsay Pennell, prosecuting, said: \\xe2\\x80\\x98Craig Eccleston-Todd\\xe2\\x80\\x99s driving resulted in the tragic death of a young woman, Rachel Titley, a death that could have been avoided. \\xe2\\x80\\x98Mr Eccleston-Todd took the decision to pick up his mobile phone whilst driving and, either reading or replying to this text message, was so distracted that he failed to negotiate a left-hand bend, crossing the central white line into the path of Miss Titley\\xe2\\x80\\x99s oncoming car. Miss Titley was pulled the wreckage of her\\xc2\\xa0Daihatsu Cuore but died later from her injuries in hospital . \\xe2\\x80\\x98Miss Titley [had] a bright future ahead of her. She was also returning home having spent an enjoyable evening with friends and was driving responsibly. \\xe2\\x80\\x98She had arranged to contact her friends when she got home to confirm that she had arrived safely. Her friends sadly never heard from her after they parted company. \\xe2\\x80\\x98Miss Titley\\xe2\\x80\\x99s death in these circumstances reiterates the danger of using a hand-held mobile phone whilst driving.\\xe2\\x80\\x99 Police were unable to take breath or blood tests from Eccleston-Todd immediately, but in tests several hours after the accident he was only marginally under the drink-drive limit. The judge agreed with police that he would have been over the limit at the time his red Citroen hit Miss Titley\\xe2\\x80\\x99s blue Daihatsu Cuore on a road near Yarmouth, Isle of Wight, on October 11, 2013. His phone records showed he was also texting around the time of the crash. PC Mark Furse, from Hampshire constabulary\\xe2\\x80\\x99s serious collision investigation unit, said: 'Our thoughts are with Rachel's family at this time. She had been out with friends at a pub in Shalfleet that evening, but had not had any alcohol. 'Our investigation showed that there was nothing she could have done to avoid the collision and sadly it cost her her life. 'Mr Eccleston-Todd had left work in Yarmouth and met with friends at a pub where he drank at least three to four pints of lager. He hadn't long left the pub to return home when the collision occurred at around 9.30pm. 'We weren't able to take breath or blood tests from him immediately and although blood taken several hours after the collision showed he was marginally under the limit, we maintain he would have been over the limit at the time of the collision and in summing up today, the judge agreed. 'The analysis of his phone records showed that he was texting on his phone around the time of the collision so it's highly likely this would also have contributed to his dangerous driving and loss of control.' Eccleston-Todd was found guilty of causing death by dangerous driving following a trial at Portsmouth Crown Court (pictured) He added: 'Mr Eccleston-Todd will now spend six years behind bars, but Rachel's family have lost her forever. 'I hope this will make people think twice before drinking any alcohol and getting behind the wheel, or using a phone once they're on the road. 'The dangers of drink driving and driving whilst using a mobile phone are obvious. Those who continue to do so risk spending a substantial time in prison. This case highlights just how tragic the consequences of committing these offences can be.' \\xe2\\x80\\x98Mr Eccleston-Todd will now spend six years behind bars, but Rachel\\xe2\\x80\\x99s family have lost her for ever. I hope this will make people think twice before drinking any alcohol and getting behind the wheel, or using a phone once they\\xe2\\x80\\x99re on the road. This case highlights just how tragic the consequences of committing these offences can be.\\xe2\\x80\\x99 Eccleston-Todd, of Newport, Isle of Wight, was also disqualified from driving for eight years\\xc2\\xa0after which he will have to complete an extended re-test.\"\n",
            " b\"(CNN) -- With a breezy sweep of his pen President Vladimir Putin wrote a new chapter into Crimea's turbulent history, committing the region to a future returned to Russian domain. Sixty years prior, Ukraine's breakaway peninsula was signed away just as swiftly by Soviet leader Nikita Khrushchev. But dealing with such a blatant land grab on its eastern flank won't be anywhere near as quick and easy for Europe's 28-member union. Because, unlike Crimea's rushed referendum, everyone has a say. After initially slapping visa restrictions and asset freezes on a limited number of little known politicians and military men, Europe is facing urgent calls to widen the scope of its measures to target the Russian business community in particular. The logic of this is that those who run Russia and own it are essentially two sides of the coin. Alexei Navalny, one-time Moscow mayoral contender now under house arrest for opposing the current regime, called for Europe's leaders to ban everyone -- from Vladimir Putin's personal banker to Chelsea Football Club owner Roman Abramovich from keeping their money and loved ones abroad. Asset freezes and visa restrictions are especially palatable options for the EU because they can be rolled out on a discretionary basis, without requiring cumbersome legal procedures and recourse. In fact Russia cancels visas for people it doesn't like all the time. Just look at Hermitage Capital founder Bill Browder who lost both his right of entry and Moscow-based money in 2005 and dare not go back. Russia also banned the adoption of its orphans by Americans in retaliation for the US's implementation of an anti-corruption law named after Sergei Magnitsky, Browder's lawyer who died after a year in a Moscow detention center, apparently beaten to death. Yet in playing the 'money talks' card, Europe must be ready for the consequences of such action. Because money also walks. As such EU leaders must be ready to accept sanctions are a two-way street and will hurt both sides. Targeting Russia's peripatetic business community would be one way of sapping their tenuous support for President Putin. And such a strategy might also turn out to have a silver lining: awarding EU countries a chance to finally deal with some of the more unpleasant sides of their patronage, including money laundering and corruption, which have inflated prize assets like London property and Picasso paintings for years. Where Europe should hold fire though is trade. Two decades of post-Soviet rapprochement and almost $500 billion worth of commerce is a lot to put at stake. It's true that any trade war would hurt Russia far harder than it would the EU - not least because 15% of the former's GDP comes from exports to the bloc. But Europe - with its hefty reliance on Russian gas - would have a hard time keeping its factories going and citizens warm without power from the east. And while Putin flexes his political muscle, open trade channels keep the dialogue going giving all sides a chance to change the subject and talk less tensely. No one can afford to cut off that lifeline, especially now with Europe's economy on the rebound and Russia's one on the wane.\"\n",
            " b\"Fleetwood are the only team still to have a 100% record in Sky Bet League One as a 2-0 win over Scunthorpe sent Graham Alexander\\xe2\\x80\\x99s men top of the table. The Cod Army are playing in the third tier for the first time in their history after six promotions in nine years and their remarkable ascent shows no sign of slowing with Jamie Proctor and Gareth Evans scoring the goals at Glanford Park. Fleetwood were one of five teams to have won two out of two but the other four clubs - Peterborough, Bristol City, Chesterfield and Crawley - all hit their first stumbling blocks. Posh were defeated 2-1 by Sheffield United, who had lost both of their opening contests. Jose Baxter\\xe2\\x80\\x99s opener gave the Blades a first-half lead, and although it was later cancelled out by Shaun Brisley\\xe2\\x80\\x99s goal, Ben Davies snatched a winner six minutes from time. In the lead: Jose Baxter (right) celebrates opening the scoring for Sheffield United . Up for the battle: Sheffield United's Michael Doyle (left) challenges Peterborough's Kyle Vassell in a keenly-contested clash . Bristol City, who beat Nigel Clough\\xe2\\x80\\x99s men on the opening day, were held to a goalless draw by last season's play-off finalists Leyton Orient while Chesterfield, the League Two champions, were beaten 1-0 by MK Dons, who play Manchester United in the Capital One Cup in seven days\\xe2\\x80\\x99 time. Arsenal loanee Benik Afobe scored the only goal of the game just after the break. Meanwhile, Crawley lost their unbeaten status, while Bradford maintained theirs, thanks to a 3-1 win for the Bantams. James Hanson became the first player to score against Crawley this season after 49 minutes before Joe Walsh equalised five minutes later. Heads up: Bristol City's Korey Smith (left) and Leyton Orient's Lloyd James go up for a header . But strikes from Billy Knott and Mason Bennett sealed an impressive away win Phil Parkinson's men. Bradford are now second behind Fleetwood after Doncaster\\xe2\\x80\\x99s stoppage-time equaliser meant Preston, for whom Joe Garner signed a new contract earlier on Tuesday, were held to a 1-1 draw which slipped them down the table. Chris Humphrey looked to have secured the points for the Lilywhites but Nathan Tyson struck a last-gasp leveller. Stand-in striker Matt Done scored a hat-trick for Rochdale in the evening\\xe2\\x80\\x99s high-scoring affair as Crewe were hammered 5-2. Marcus Haber marked his full Railwaymen debut with a brace but Done\\xe2\\x80\\x99s treble and goals from Ian Henderson and Peter Vincenti helped Keith Hill\\xe2\\x80\\x99s men to a big away victory. There were plenty of goals between Coventry and Barnsley too in a 2-2 draw with all four goals coming in the first half. Josh McQuoid and Jordan Clarke twice gave the Sky Blues the lead, but the Tykes earned a point thanks to strikes from Conor Hourihane and Leroy Lita. Notts County recorded a 2-1 home win over Colchester with Ronan Murray and Liam Noble on target. Freddie Sears replied for Colchester. James Wilson's second half equaliser earned Oldham a points against Port Vale after Tom Pope's opener and Yeovil claimed a 2-1 away victory at Walsall with Kevin Dawson striking a late winner. Tom Bradshaw had equalised after veteran James Hayter gave the Glovers the lead. Finally, Swindon held Gillingham to a 2-2 draw thanks to Stephen Bywater\\xe2\\x80\\x99s last-minute own goal. Danny Kedwell and Kortney Hause twice gave the Gills the lead but Andy Williams pulled Swindon level before Bywater dropped Raphael Branco's cross into his own net.\"]\n",
            "\n",
            "\n",
            "\n",
            "Here are the 5 titles corresponding to previous articles : \n",
            "[b'Bishop John Folda, of North Dakota, is taking time off after being diagnosed .\\nHe contracted the infection through contaminated food in Italy .\\nChurch members in Fargo, Grand Forks and Jamestown could have been exposed .'\n",
            " b'Criminal complaint: Cop used his role to help cocaine traffickers .\\nRalph Mata, an internal affairs lieutenant, allegedly helped group get guns .\\nHe also arranged to pay two assassins in a murder plot, a complaint alleges .'\n",
            " b\"Craig Eccleston-Todd, 27, had drunk at least three pints before driving car .\\nWas using phone when he veered across road in Yarmouth, Isle of Wight .\\nCrashed head-on into 28-year-old Rachel Titley's car, who died in hospital .\\nPolice say he would have been over legal drink-drive limit at time of crash .\\nHe was found guilty at Portsmouth Crown Court of causing death by dangerous driving .\"\n",
            " b\"Nina dos Santos says Europe must be ready to accept sanctions will hurt both sides .\\nTargeting Russia's business community would be one way of sapping their support for President Putin, she says .\\nBut she says Europe would have a hard time keeping its factories going without power from the east .\"\n",
            " b'Fleetwood top of League One after 2-0 win at Scunthorpe .\\nPeterborough, Bristol City, Chesterfield and Crawley all drop first points of the season .\\nStand-in striker Matt Done scores a hat-trick as Rochdale thrash Crewe 5-2 .\\nWins for Notts County and Yeovil .\\nCoventry/Bradford and Oldham/Port Vale both end in draws .\\nA late Stephen Bywater own goal denies Gillingham three points against Millwall .']\n"
          ],
          "name": "stdout"
        }
      ]
    },
    {
      "cell_type": "markdown",
      "metadata": {
        "id": "B4CjeQsSAsPi"
      },
      "source": [
        "## 3. Data pre-processing"
      ]
    },
    {
      "cell_type": "markdown",
      "metadata": {
        "id": "j0KRt0_sA9iI"
      },
      "source": [
        "Let's first decode the binary data into text (utf-8)."
      ]
    },
    {
      "cell_type": "code",
      "metadata": {
        "id": "T0QyKi94BXUr"
      },
      "source": [
        "# Let's define the size of our train and test\n",
        "train_size = 10000\n",
        "test_size = 2000\n",
        "\n",
        "train_articles = []\n",
        "train_titles = []\n",
        "test_articles = []\n",
        "test_titles = []\n",
        "\n",
        "for i in range(train_size):\n",
        "  train_articles.append(train_articles_b[i].decode(\"utf-8\"))\n",
        "  train_titles.append(train_titles_b[i].decode(\"utf-8\"))\n",
        "\n",
        "for i in range(test_size):\n",
        "  test_articles.append(test_articles_b[i].decode(\"utf-8\"))\n",
        "  test_titles.append(test_titles_b[i].decode(\"utf-8\"))\n"
      ],
      "execution_count": 5,
      "outputs": []
    },
    {
      "cell_type": "code",
      "metadata": {
        "id": "vmayB0hXDKD1"
      },
      "source": [
        "# TODO : DELETE THE FOLLOWING LINES (JUST TO TEST MORE QUICKLY)\n",
        "# We do a subset of the data to compute the results faster\n",
        "\n",
        "sub_train_articles = []\n",
        "sub_train_titles = []\n",
        "for i in range(100):\n",
        "  sub_train_articles.append(train_articles[i])\n",
        "  sub_train_titles.append(train_titles[i])\n",
        "\n",
        "# DELETE UNTIL THERE"
      ],
      "execution_count": 6,
      "outputs": []
    },
    {
      "cell_type": "markdown",
      "metadata": {
        "id": "22Bzy8m0AYGg"
      },
      "source": [
        "We will know clean the texts by doing several things : \n",
        "\n",
        "\n",
        "1.   Removing all the possible english contractions\n",
        "1.   Put everything in lowercase\n",
        "2.   Remove all the unwanted characters\n",
        "2.   Remove the stopwords from the articles. We will remove the stopwords only from the articles because it does not bring anything for the training of our model. However, we will let those stopwords for the titles so that they sound more like natural sentences.\n",
        "\n"
      ]
    },
    {
      "cell_type": "code",
      "metadata": {
        "id": "wda-uf37mVbu"
      },
      "source": [
        "# List of English contractions : http://stackoverflow.com/questions/19790188/expanding-english-language-contractions-in-python\n",
        "contractions = { \n",
        "\"ain't\": \"am not / are not / is not / has not / have not\",\n",
        "\"aren't\": \"are not / am not\",\n",
        "\"can't\": \"cannot\",\n",
        "\"can't've\": \"cannot have\",\n",
        "\"'cause\": \"because\",\n",
        "\"could've\": \"could have\",\n",
        "\"couldn't\": \"could not\",\n",
        "\"couldn't've\": \"could not have\",\n",
        "\"didn't\": \"did not\",\n",
        "\"doesn't\": \"does not\",\n",
        "\"don't\": \"do not\",\n",
        "\"hadn't\": \"had not\",\n",
        "\"hadn't've\": \"had not have\",\n",
        "\"hasn't\": \"has not\",\n",
        "\"haven't\": \"have not\",\n",
        "\"he'd\": \"he had / he would\",\n",
        "\"he'd've\": \"he would have\",\n",
        "\"he'll\": \"he shall / he will\",\n",
        "\"he'll've\": \"he shall have / he will have\",\n",
        "\"he's\": \"he has / he is\",\n",
        "\"how'd\": \"how did\",\n",
        "\"how'd'y\": \"how do you\",\n",
        "\"how'll\": \"how will\",\n",
        "\"how's\": \"how has / how is / how does\",\n",
        "\"I'd\": \"I had / I would\",\n",
        "\"I'd've\": \"I would have\",\n",
        "\"I'll\": \"I shall / I will\",\n",
        "\"I'll've\": \"I shall have / I will have\",\n",
        "\"I'm\": \"I am\",\n",
        "\"I've\": \"I have\",\n",
        "\"isn't\": \"is not\",\n",
        "\"it'd\": \"it had / it would\",\n",
        "\"it'd've\": \"it would have\",\n",
        "\"it'll\": \"it shall / it will\",\n",
        "\"it'll've\": \"it shall have / it will have\",\n",
        "\"it's\": \"it has / it is\",\n",
        "\"let's\": \"let us\",\n",
        "\"ma'am\": \"madam\",\n",
        "\"mayn't\": \"may not\",\n",
        "\"might've\": \"might have\",\n",
        "\"mightn't\": \"might not\",\n",
        "\"mightn't've\": \"might not have\",\n",
        "\"must've\": \"must have\",\n",
        "\"mustn't\": \"must not\",\n",
        "\"mustn't've\": \"must not have\",\n",
        "\"needn't\": \"need not\",\n",
        "\"needn't've\": \"need not have\",\n",
        "\"o'clock\": \"of the clock\",\n",
        "\"oughtn't\": \"ought not\",\n",
        "\"oughtn't've\": \"ought not have\",\n",
        "\"shan't\": \"shall not\",\n",
        "\"sha'n't\": \"shall not\",\n",
        "\"shan't've\": \"shall not have\",\n",
        "\"she'd\": \"she had / she would\",\n",
        "\"she'd've\": \"she would have\",\n",
        "\"she'll\": \"she shall / she will\",\n",
        "\"she'll've\": \"she shall have / she will have\",\n",
        "\"she's\": \"she has / she is\",\n",
        "\"should've\": \"should have\",\n",
        "\"shouldn't\": \"should not\",\n",
        "\"shouldn't've\": \"should not have\",\n",
        "\"so've\": \"so have\",\n",
        "\"so's\": \"so as / so is\",\n",
        "\"that'd\": \"that would / that had\",\n",
        "\"that'd've\": \"that would have\",\n",
        "\"that's\": \"that has / that is\",\n",
        "\"there'd\": \"there had / there would\",\n",
        "\"there'd've\": \"there would have\",\n",
        "\"there's\": \"there has / there is\",\n",
        "\"they'd\": \"they had / they would\",\n",
        "\"they'd've\": \"they would have\",\n",
        "\"they'll\": \"they shall / they will\",\n",
        "\"they'll've\": \"they shall have / they will have\",\n",
        "\"they're\": \"they are\",\n",
        "\"they've\": \"they have\",\n",
        "\"to've\": \"to have\",\n",
        "\"wasn't\": \"was not\",\n",
        "\"we'd\": \"we had / we would\",\n",
        "\"we'd've\": \"we would have\",\n",
        "\"we'll\": \"we will\",\n",
        "\"we'll've\": \"we will have\",\n",
        "\"we're\": \"we are\",\n",
        "\"we've\": \"we have\",\n",
        "\"weren't\": \"were not\",\n",
        "\"what'll\": \"what shall / what will\",\n",
        "\"what'll've\": \"what shall have / what will have\",\n",
        "\"what're\": \"what are\",\n",
        "\"what's\": \"what has / what is\",\n",
        "\"what've\": \"what have\",\n",
        "\"when's\": \"when has / when is\",\n",
        "\"when've\": \"when have\",\n",
        "\"where'd\": \"where did\",\n",
        "\"where's\": \"where has / where is\",\n",
        "\"where've\": \"where have\",\n",
        "\"who'll\": \"who shall / who will\",\n",
        "\"who'll've\": \"who shall have / who will have\",\n",
        "\"who's\": \"who has / who is\",\n",
        "\"who've\": \"who have\",\n",
        "\"why's\": \"why has / why is\",\n",
        "\"why've\": \"why have\",\n",
        "\"will've\": \"will have\",\n",
        "\"won't\": \"will not\",\n",
        "\"won't've\": \"will not have\",\n",
        "\"would've\": \"would have\",\n",
        "\"wouldn't\": \"would not\",\n",
        "\"wouldn't've\": \"would not have\",\n",
        "\"y'all\": \"you all\",\n",
        "\"y'all'd\": \"you all would\",\n",
        "\"y'all'd've\": \"you all would have\",\n",
        "\"y'all're\": \"you all are\",\n",
        "\"y'all've\": \"you all have\",\n",
        "\"you'd\": \"you had / you would\",\n",
        "\"you'd've\": \"you would have\",\n",
        "\"you'll\": \"you shall / you will\",\n",
        "\"you'll've\": \"you shall have / you will have\",\n",
        "\"you're\": \"you are\",\n",
        "\"you've\": \"you have\"\n",
        "}"
      ],
      "execution_count": 7,
      "outputs": []
    },
    {
      "cell_type": "code",
      "metadata": {
        "id": "34bfhWk3mofD"
      },
      "source": [
        "def clean_text(text, remove_stopwords = True):\n",
        "    '''Remove unwanted characters, stopwords, and format the text to create fewer nulls word embeddings'''\n",
        "    \n",
        "    # Convert words to lower case\n",
        "    text = text.lower()\n",
        "    \n",
        "    # Replace contractions with their longer forms \n",
        "    if True:\n",
        "        text = text.split()\n",
        "        new_text = []\n",
        "        for word in text:\n",
        "            if word in contractions:\n",
        "                new_text.append(contractions[word])\n",
        "            else:\n",
        "                new_text.append(word)\n",
        "        text = \" \".join(new_text)\n",
        "    \n",
        "    # Format words and remove unwanted characters\n",
        "    text = re.sub(r'https?:\\/\\/.*[\\r\\n]*', '', text, flags=re.MULTILINE)\n",
        "    text = re.sub(r'\\<a href', ' ', text)\n",
        "    text = re.sub(r'&amp;', '', text) \n",
        "    text = re.sub(r'[_\"\\-;%()|+&=*%.,!?:#$@\\[\\]/]', ' ', text)\n",
        "    text = re.sub(r'<br />', ' ', text)\n",
        "    text = re.sub(r'\\'', ' ', text)\n",
        "    \n",
        "    # Remove stopwords if needed\n",
        "    if remove_stopwords:\n",
        "        text = text.split()\n",
        "        stops = set(stopwords.words(\"english\"))\n",
        "        text = [w for w in text if not w in stops]\n",
        "        text = \" \".join(text)\n",
        "\n",
        "    return text"
      ],
      "execution_count": 8,
      "outputs": []
    },
    {
      "cell_type": "code",
      "metadata": {
        "id": "wylmnNjvmvnz",
        "outputId": "691a0ba3-a232-4ebd-8d5c-764f97aceb65",
        "colab": {
          "base_uri": "https://localhost:8080/"
        }
      },
      "source": [
        "import nltk\n",
        "nltk.download('stopwords')\n",
        "\n",
        "# Cleaning data\n",
        "for i in range(len(train_articles)):\n",
        "  train_articles[i] = clean_text(train_articles[i], remove_stopwords=True)\n",
        "  train_titles[i] = clean_text(train_titles[i], remove_stopwords=False)\n",
        "\n",
        "for i in range(len(test_articles)):\n",
        "  test_articles[i] = clean_text(test_articles[i], remove_stopwords=True)\n",
        "  test_titles[i] = clean_text(test_titles[i], remove_stopwords=True)\n",
        "\n",
        "# Converting the Python list to numpy.ndarray\n",
        "train_articles = np.array(train_articles)\n",
        "train_titles = np.array(train_titles)\n",
        "\n",
        "test_articles = np.array(test_articles)\n",
        "test_titles = np.array(test_titles)"
      ],
      "execution_count": 9,
      "outputs": [
        {
          "output_type": "stream",
          "text": [
            "[nltk_data] Downloading package stopwords to /root/nltk_data...\n",
            "[nltk_data]   Unzipping corpora/stopwords.zip.\n"
          ],
          "name": "stdout"
        }
      ]
    },
    {
      "cell_type": "code",
      "metadata": {
        "id": "yWJru0NgI-nQ"
      },
      "source": [
        "# TODO: DELETE\n",
        "for i in range(len(sub_train_articles)):\n",
        "  sub_train_articles[i] = clean_text(sub_train_articles[i], remove_stopwords=True)\n",
        "  sub_train_titles[i] = clean_text(sub_train_titles[i], remove_stopwords=True)\n",
        "\n",
        "sub_train_articles = np.array(sub_train_articles)\n",
        "sub_train_titles = np.array(sub_train_titles)\n",
        "# DELETE"
      ],
      "execution_count": 10,
      "outputs": []
    },
    {
      "cell_type": "markdown",
      "metadata": {
        "id": "CUxsNO_xJmEd"
      },
      "source": [
        "Let's inspect the clean data"
      ]
    },
    {
      "cell_type": "code",
      "metadata": {
        "id": "Q1u3Yy2YJpEW",
        "outputId": "1ef295ed-591c-4d88-f38d-c1ac6f0af002",
        "colab": {
          "base_uri": "https://localhost:8080/"
        }
      },
      "source": [
        "# Check the number of entries\n",
        "print(\"Training entries: {}\".format(len(train_articles)))\n",
        "print(\"Test entries: {}\".format(len(test_articles)))\n",
        "\n",
        "# Print 5 articles and 5 title to see the loaded data\n",
        "print(\"Here are 5 articles : \")\n",
        "print(train_articles[:5])\n",
        "\n",
        "print(\"\\n\\n\")\n",
        "\n",
        "print(\"Here are the 5 titles corresponding to previous articles : \")\n",
        "print(train_titles[:5])"
      ],
      "execution_count": 11,
      "outputs": [
        {
          "output_type": "stream",
          "text": [
            "Training entries: 10000\n",
            "Test entries: 2000\n",
            "Here are 5 articles : \n",
            "['associated press published 14 11 est 25 october 2013 updated 15 36 est 25 october 2013 bishop fargo catholic diocese north dakota exposed potentially hundreds church members fargo grand forks jamestown hepatitis virus late september early october state health department issued advisory exposure anyone attended five churches took communion bishop john folda pictured fargo catholic diocese north dakota exposed potentially hundreds church members fargo grand forks jamestown hepatitis state immunization program manager molly howell says risk low officials feel important alert people possible exposure diocese announced monday bishop john folda taking time diagnosed hepatitis diocese says contracted infection contaminated food attending conference newly ordained bishops italy last month symptoms hepatitis include fever tiredness loss appetite nausea abdominal discomfort fargo catholic diocese north dakota pictured bishop located'\n",
            " 'cnn ralph mata internal affairs lieutenant miami dade police department working division investigates allegations wrongdoing cops outside office authorities allege 45 year old longtime officer worked drug trafficking organization help plan murder plot get guns criminal complaint unsealed u district court new jersey tuesday accuses mata also known milk man using role police officer help drug trafficking organization exchange money gifts including rolex watch one instance complaint alleges mata arranged pay two assassins kill rival drug dealers killers would pose cops pulling targets shooting according complaint ultimately organization decided move forward murder plot mata still received payment setting meetings federal prosecutors said statement complaint also alleges mata used police badge purchase weapons drug traffickers mata according complaint used contacts airport transport weapons carry luggage trips miami dominican republic court documents released investigators specify name drug trafficking organization mata allegedly conspired says organization importing narcotics places ecuador dominican republic hiding inside shipping containers containing pallets produce including bananas organization distributing narcotics new jersey elsewhere complaint says authorities arrested mata tuesday miami gardens florida immediately clear whether mata attorney police officials could immediately reached comment mata worked miami dade police department since 1992 including directing investigations miami gardens working lieutenant k 9 unit miami international airport according complaint since march 2010 working internal affairs division mata faces charges aiding abetting conspiracy distribute cocaine conspiring distribute cocaine engaging monetary transactions property derived specified unlawful activity scheduled appear federal court florida wednesday convicted mata could face life prison cnn suzanne presto contributed report'\n",
            " 'drunk driver killed young woman head crash checking mobile phone jailed six years craig eccleston todd 27 driving home night pub received text message reading replying veered across road driving round bend smashed rachel titley’s car coming way craig eccleston todd 27 left using mobile phone crashed head car driven rachel titley 28 right died later injuries head crash took place october 2013 mr eccleston todd car barely recognisable pictured police said eccleston todd drunk least three four pints beer getting behind wheel found guilty causing death dangerous driving portsmouth crown court yesterday miss titley 28 year old solicitor’s clerk cowes isle wight also spent evening friends pub drunk alcohol police said driving responsibly ‘nothing could done avoid collision’ added lindsay pennell prosecuting said ‘craig eccleston todd’s driving resulted tragic death young woman rachel titley death could avoided ‘mr eccleston todd took decision pick mobile phone whilst driving either reading replying text message distracted failed negotiate left hand bend crossing central white line path miss titley’s oncoming car miss titley pulled wreckage daihatsu cuore died later injuries hospital ‘miss titley bright future ahead also returning home spent enjoyable evening friends driving responsibly ‘she arranged contact friends got home confirm arrived safely friends sadly never heard parted company ‘miss titley’s death circumstances reiterates danger using hand held mobile phone whilst driving ’ police unable take breath blood tests eccleston todd immediately tests several hours accident marginally drink drive limit judge agreed police would limit time red citroen hit miss titley’s blue daihatsu cuore road near yarmouth isle wight october 11 2013 phone records showed also texting around time crash pc mark furse hampshire constabulary’s serious collision investigation unit said thoughts rachel family time friends pub shalfleet evening alcohol investigation showed nothing could done avoid collision sadly cost life mr eccleston todd left work yarmouth met friends pub drank least three four pints lager long left pub return home collision occurred around 9 30pm able take breath blood tests immediately although blood taken several hours collision showed marginally limit maintain would limit time collision summing today judge agreed analysis phone records showed texting phone around time collision highly likely would also contributed dangerous driving loss control eccleston todd found guilty causing death dangerous driving following trial portsmouth crown court pictured added mr eccleston todd spend six years behind bars rachel family lost forever hope make people think twice drinking alcohol getting behind wheel using phone road dangers drink driving driving whilst using mobile phone obvious continue risk spending substantial time prison case highlights tragic consequences committing offences ‘mr eccleston todd spend six years behind bars rachel’s family lost ever hope make people think twice drinking alcohol getting behind wheel using phone they’re road case highlights tragic consequences committing offences ’ eccleston todd newport isle wight also disqualified driving eight years complete extended test'\n",
            " 'cnn breezy sweep pen president vladimir putin wrote new chapter crimea turbulent history committing region future returned russian domain sixty years prior ukraine breakaway peninsula signed away swiftly soviet leader nikita khrushchev dealing blatant land grab eastern flank anywhere near quick easy europe 28 member union unlike crimea rushed referendum everyone say initially slapping visa restrictions asset freezes limited number little known politicians military men europe facing urgent calls widen scope measures target russian business community particular logic run russia essentially two sides coin alexei navalny one time moscow mayoral contender house arrest opposing current regime called europe leaders ban everyone vladimir putin personal banker chelsea football club owner roman abramovich keeping money loved ones abroad asset freezes visa restrictions especially palatable options eu rolled discretionary basis without requiring cumbersome legal procedures recourse fact russia cancels visas people like time look hermitage capital founder bill browder lost right entry moscow based money 2005 dare go back russia also banned adoption orphans americans retaliation us implementation anti corruption law named sergei magnitsky browder lawyer died year moscow detention center apparently beaten death yet playing money talks card europe must ready consequences action money also walks eu leaders must ready accept sanctions two way street hurt sides targeting russia peripatetic business community would one way sapping tenuous support president putin strategy might also turn silver lining awarding eu countries chance finally deal unpleasant sides patronage including money laundering corruption inflated prize assets like london property picasso paintings years europe hold fire though trade two decades post soviet rapprochement almost 500 billion worth commerce lot put stake true trade war would hurt russia far harder would eu least 15 former gdp comes exports bloc europe hefty reliance russian gas would hard time keeping factories going citizens warm without power east putin flexes political muscle open trade channels keep dialogue going giving sides chance change subject talk less tensely one afford cut lifeline especially europe economy rebound russia one wane'\n",
            " 'fleetwood team still 100 record sky bet league one 2 0 win scunthorpe sent graham alexander’s men top table cod army playing third tier first time history six promotions nine years remarkable ascent shows sign slowing jamie proctor gareth evans scoring goals glanford park fleetwood one five teams two two four clubs peterborough bristol city chesterfield crawley hit first stumbling blocks posh defeated 2 1 sheffield united lost opening contests jose baxter’s opener gave blades first half lead although later cancelled shaun brisley’s goal ben davies snatched winner six minutes time lead jose baxter right celebrates opening scoring sheffield united battle sheffield united michael doyle left challenges peterborough kyle vassell keenly contested clash bristol city beat nigel clough’s men opening day held goalless draw last season play finalists leyton orient chesterfield league two champions beaten 1 0 mk dons play manchester united capital one cup seven days’ time arsenal loanee benik afobe scored goal game break meanwhile crawley lost unbeaten status bradford maintained thanks 3 1 win bantams james hanson became first player score crawley season 49 minutes joe walsh equalised five minutes later heads bristol city korey smith left leyton orient lloyd james go header strikes billy knott mason bennett sealed impressive away win phil parkinson men bradford second behind fleetwood doncaster’s stoppage time equaliser meant preston joe garner signed new contract earlier tuesday held 1 1 draw slipped table chris humphrey looked secured points lilywhites nathan tyson struck last gasp leveller stand striker matt done scored hat trick rochdale evening’s high scoring affair crewe hammered 5 2 marcus haber marked full railwaymen debut brace done’s treble goals ian henderson peter vincenti helped keith hill’s men big away victory plenty goals coventry barnsley 2 2 draw four goals coming first half josh mcquoid jordan clarke twice gave sky blues lead tykes earned point thanks strikes conor hourihane leroy lita notts county recorded 2 1 home win colchester ronan murray liam noble target freddie sears replied colchester james wilson second half equaliser earned oldham points port vale tom pope opener yeovil claimed 2 1 away victory walsall kevin dawson striking late winner tom bradshaw equalised veteran james hayter gave glovers lead finally swindon held gillingham 2 2 draw thanks stephen bywater’s last minute goal danny kedwell kortney hause twice gave gills lead andy williams pulled swindon level bywater dropped raphael branco cross net']\n",
            "\n",
            "\n",
            "\n",
            "Here are the 5 titles corresponding to previous articles : \n",
            "['bishop john folda  of north dakota  is taking time off after being diagnosed   he contracted the infection through contaminated food in italy   church members in fargo  grand forks and jamestown could have been exposed  '\n",
            " 'criminal complaint  cop used his role to help cocaine traffickers   ralph mata  an internal affairs lieutenant  allegedly helped group get guns   he also arranged to pay two assassins in a murder plot  a complaint alleges  '\n",
            " 'craig eccleston todd  27  had drunk at least three pints before driving car   was using phone when he veered across road in yarmouth  isle of wight   crashed head on into 28 year old rachel titley s car  who died in hospital   police say he would have been over legal drink drive limit at time of crash   he was found guilty at portsmouth crown court of causing death by dangerous driving  '\n",
            " 'nina dos santos says europe must be ready to accept sanctions will hurt both sides   targeting russia s business community would be one way of sapping their support for president putin  she says   but she says europe would have a hard time keeping its factories going without power from the east  '\n",
            " 'fleetwood top of league one after 2 0 win at scunthorpe   peterborough  bristol city  chesterfield and crawley all drop first points of the season   stand in striker matt done scores a hat trick as rochdale thrash crewe 5 2   wins for notts county and yeovil   coventry bradford and oldham port vale both end in draws   a late stephen bywater own goal denies gillingham three points against millwall  ']\n"
          ],
          "name": "stdout"
        }
      ]
    },
    {
      "cell_type": "markdown",
      "metadata": {
        "id": "gY90e8-CKjbH"
      },
      "source": [
        "As we can see, the text is much more refined than before."
      ]
    },
    {
      "cell_type": "markdown",
      "metadata": {
        "id": "aQwNXebCMl8G"
      },
      "source": [
        "## 4. Word Embeddings"
      ]
    },
    {
      "cell_type": "markdown",
      "metadata": {
        "id": "CehpRusaYEe9"
      },
      "source": [
        "First, let's create the vocabulary, which is the number of occurences of every word."
      ]
    },
    {
      "cell_type": "code",
      "metadata": {
        "id": "fAEZbiVHX_Np"
      },
      "source": [
        "def add_vocabulary(vocabulary, data):\n",
        "  '''Add the number of occurences of every word in the data to the vocabulary given in args'''\n",
        "  for sentence in data:\n",
        "    for word in sentence.split():\n",
        "      if word not in vocabulary:\n",
        "        vocabulary[word] = 1 # Add the word in the vocabulary\n",
        "      else:\n",
        "        vocabulary[word] += 1 # Increment the number of occurences for the word \"word\""
      ],
      "execution_count": 12,
      "outputs": []
    },
    {
      "cell_type": "code",
      "metadata": {
        "id": "FPZfVeZEY7rE",
        "outputId": "0f31e3ec-e3dd-427b-d712-20a3585033d3",
        "colab": {
          "base_uri": "https://localhost:8080/"
        }
      },
      "source": [
        "# Create the vocabulary for the train articles and titles\n",
        "vocabulary = {}\n",
        "\n",
        "add_vocabulary(vocabulary, train_articles)\n",
        "add_vocabulary(vocabulary, train_titles)\n",
        "\n",
        "print(\"There are {} words in the vocabulary.\".format(len(vocabulary)))"
      ],
      "execution_count": 13,
      "outputs": [
        {
          "output_type": "stream",
          "text": [
            "There are 106463 words in the vocabulary.\n"
          ],
          "name": "stdout"
        }
      ]
    },
    {
      "cell_type": "code",
      "metadata": {
        "id": "oOayt6kHGN4h"
      },
      "source": [
        "def find_missing_words(vocabulary, embedding, threshold):\n",
        "  '''\n",
        "  Finds the number of words that are not in the word embedding given in arg,\n",
        "  and that are used more than the threshold given.\n",
        "  '''\n",
        "  missing_words = 0\n",
        "  for word, occurence in vocabulary.items():\n",
        "    if occurence > threshold:\n",
        "      if word not in embedding:\n",
        "        missing_words += 1\n",
        "\n",
        "  return missing_words\n",
        "\n"
      ],
      "execution_count": 39,
      "outputs": []
    },
    {
      "cell_type": "code",
      "metadata": {
        "id": "qMZObdnZPxDd"
      },
      "source": [
        "def create_dictionary(vocabulary, embedding, threshold):\n",
        "  '''\n",
        "  Creates both direction of dictionaries (int -> word  &&  word -> int)\n",
        "  Returns a tuple (dico, reverse_dico)\n",
        "  '''\n",
        "\n",
        "  # We will only put in the dictionary the words that have an occurence >= threshold\n",
        "  # and that belongs to the pre-trained vectors (Word2Vec, GloVe and FastText)\n",
        "\n",
        "  dico = {} # (words -> int)\n",
        "  reverse_dico = {} # (int -> words)\n",
        "\n",
        "  # Built in words (see Theoretical Focus)\n",
        "  builtin = [\"<UNK>\", \"<PAD>\", \"<BOS>\", \"<EOS>\"]\n",
        "\n",
        "  # Add the words in the dictionary  (dico[\"ex1\"] = 0, dico[\"ex2\"] = 1, ...)\n",
        "  cnt = 0\n",
        "  for word, occurence in vocabulary.items():\n",
        "    if occurence >= threshold or word in embedding:\n",
        "      dico[word] = cnt\n",
        "      cnt += 1\n",
        "\n",
        "  # Add the built in words to the dico\n",
        "  for b in builtin:\n",
        "    dico[b] = len(dico)\n",
        "\n",
        "  # Create the reverse dico (reverse_dico[0] = \"ex1\", dico[1] = \"ex2\", ...)\n",
        "  for word, value in dico.items():\n",
        "    reverse_dico[value] = word\n",
        "\n",
        "  return dico, reverse_dico"
      ],
      "execution_count": 41,
      "outputs": []
    },
    {
      "cell_type": "code",
      "metadata": {
        "id": "NRX3mSotYrIR"
      },
      "source": [
        "def create_embedding_matrix(vector_dim, dico, embedding):\n",
        "  '''\n",
        "  Creates an embedding matrix of size N x M where N is the number of words in \n",
        "  the dico and M is the dimensions of the pre-trained vectors.\n",
        "  Returns : embedding_matrix\n",
        "  '''\n",
        "\n",
        "  # create the matrix\n",
        "  embedding_matrix = np.zeros((len(dico), vector_dim), dtype=np.float32)\n",
        "  for word, index in dico.items():\n",
        "    if word in embedding:\n",
        "      embedding_matrix[index] = embedding[word]\n",
        "    else:\n",
        "      # If word not in the pre-trained vectors, create a random embedding for it\n",
        "      new_embedding = np.array(np.random.uniform(-1.0, 1.0, vector_dim))\n",
        "      embedding[word] = new_embedding\n",
        "      embedding_matrix[index] = new_embedding\n",
        "\n",
        "  return embedding_matrix\n"
      ],
      "execution_count": 52,
      "outputs": []
    },
    {
      "cell_type": "code",
      "metadata": {
        "id": "8NX1tejAeOe4"
      },
      "source": [
        "def text2integer(text, dico, eos=False):\n",
        "  '''\n",
        "  Converts the text to integers thanks to the dictionary.\n",
        "  Returns a list of integers representing the text\n",
        "  '''\n",
        "  int_text = []\n",
        "  for sentence in text:\n",
        "    sentence_int = []\n",
        "    for word in sentence.split():\n",
        "      if word in dico:\n",
        "        sentence_int.append(dico[word]) # Add the integer corresponding to the word \n",
        "      else:\n",
        "        sentence_int.append(dico['<UNK>']) # Word not in the dico so add the integer corresponding to <UNK>\n",
        "\n",
        "    if eos:\n",
        "      sentence_int.append(dico['<EOS>'])\n",
        "    \n",
        "    int_text.append(sentence_int)\n",
        "\n",
        "    return int_text"
      ],
      "execution_count": 61,
      "outputs": []
    },
    {
      "cell_type": "code",
      "metadata": {
        "id": "vVgoEGwAgcou"
      },
      "source": [
        "def create_dico_matrix(vocabulary, embedding, threshold, vector_dim):\n",
        "  '''\n",
        "  Creates the dictionaries and the embedding matrix for the data given in args\n",
        "  Returns a tuple (dico, reverse_dico, embedding_matrix)\n",
        "  '''\n",
        "\n",
        "  # Create the dictionaries\n",
        "  dico, reverse_dico = create_dictionary(vocabulary, embedding, threshold)\n",
        "\n",
        "  # Create the embedding matrix\n",
        "  embedding_matrix = create_embedding_matrix(vector_dim, dico, embedding)\n",
        "\n",
        "  return dico, reverse_dico, embedding_matrix "
      ],
      "execution_count": 44,
      "outputs": []
    },
    {
      "cell_type": "markdown",
      "metadata": {
        "id": "ypgGffpRjj5j"
      },
      "source": [
        "We will now import the different pre-trained word embeddings : Word2Vec, GloVe and FastText.\n",
        "\n",
        "We limited the words to 200k so that the Google Collab does not crash. Indeed, the amount of data is too huge and the amount of RAM needed exceed what we are allowed. Of course, to have better results, loading the whole pre-trained is better. However, it is still acceptable because we will take the 200k most frequent words."
      ]
    },
    {
      "cell_type": "code",
      "metadata": {
        "id": "9DwUlP5v7dLN"
      },
      "source": [
        "limit_words = 200000\n",
        "vector_dim = 300\n",
        "\n",
        "# We will choose a threshold of 20. It means that the words that are in the\n",
        "# vocabulary but not in the pre-trained vectors and the words that appear at\n",
        "# least 20 times will be added to the word embedding matrix. We need a minimum\n",
        "# threshold so that the words have a little bit of meaning for the model\n",
        "threshold = 20 "
      ],
      "execution_count": 45,
      "outputs": []
    },
    {
      "cell_type": "markdown",
      "metadata": {
        "id": "2myvkFqCj3dl"
      },
      "source": [
        "### Word2Vec\n",
        "\n",
        "We have used the pre-trained vectors trained on part of Google News dataset (about 100 billions words). https://code.google.com/archive/p/word2vec/"
      ]
    },
    {
      "cell_type": "code",
      "metadata": {
        "id": "xayWYLJCcvp6"
      },
      "source": [
        "from gensim.test.utils import datapath\n",
        "from gensim.models import KeyedVectors\n",
        "\n",
        "word2vec = KeyedVectors.load_word2vec_format('/content/drive/My Drive/info2049/GoogleNews-vectors-negative300.bin.gz', binary=True, limit=limit_words)\n"
      ],
      "execution_count": 16,
      "outputs": []
    },
    {
      "cell_type": "code",
      "metadata": {
        "id": "YFaHpnCu2qi_",
        "outputId": "fec8ad42-40be-42f9-eba7-6650a71bfe96",
        "colab": {
          "base_uri": "https://localhost:8080/"
        }
      },
      "source": [
        "print(\"We have retrieved {} pre-trained vectors\".format(len(word2vec.vocab)))\n",
        "print(\"Each vectors has {} dimensions\".format(len(word2vec[\"project\"])))\n",
        "print(\"Here is an example of vector for the word 'project' with word2vec\\n\")\n",
        "print(word2vec[\"project\"])"
      ],
      "execution_count": 17,
      "outputs": [
        {
          "output_type": "stream",
          "text": [
            "We have retrieved 200000 pre-trained vectors\n",
            "Each vectors has 300 dimensions\n",
            "Here is an example of vector for the word 'project' with word2vec\n",
            "\n",
            "[-1.80664062e-02  8.54492188e-03  6.98242188e-02  3.07617188e-02\n",
            "  8.05664062e-02  3.44238281e-02  4.41406250e-01  1.91650391e-02\n",
            "  1.10473633e-02  9.13085938e-02 -8.05664062e-02  8.66699219e-03\n",
            " -5.66406250e-02 -2.79296875e-01 -3.04687500e-01  2.66113281e-02\n",
            " -1.01074219e-01 -2.44140625e-01  1.10473633e-02 -2.19726562e-02\n",
            " -1.27929688e-01  2.11914062e-01 -4.27246094e-02  6.34765625e-02\n",
            " -6.12792969e-02 -1.52343750e-01 -4.27246094e-02 -1.40625000e-01\n",
            " -2.41699219e-02 -1.74804688e-01  1.55639648e-02 -4.61425781e-02\n",
            " -1.83593750e-01 -8.74023438e-02  1.27929688e-01 -1.05957031e-01\n",
            "  7.26318359e-03 -2.64892578e-02  1.35742188e-01 -1.41601562e-01\n",
            " -1.19628906e-02  2.43164062e-01  5.61523438e-02  1.40625000e-01\n",
            " -3.22265625e-01 -3.39843750e-01 -2.53906250e-01 -1.36718750e-01\n",
            " -2.08984375e-01  3.61328125e-01  1.34765625e-01 -1.11816406e-01\n",
            " -1.14257812e-01 -2.27539062e-01  9.66796875e-02 -6.73828125e-02\n",
            " -3.08837891e-02 -3.17382812e-02  1.79443359e-02 -4.10156250e-02\n",
            "  7.95898438e-02 -1.30859375e-01 -4.56542969e-02 -1.52343750e-01\n",
            " -1.05957031e-01  6.29882812e-02 -3.32031250e-02 -7.81250000e-02\n",
            "  9.47265625e-02  3.08837891e-02 -8.69140625e-02 -1.71875000e-01\n",
            " -1.13281250e-01 -1.06445312e-01  1.02539062e-01  6.78710938e-02\n",
            " -5.90820312e-02  1.09863281e-02 -1.96289062e-01  2.28515625e-01\n",
            " -1.02050781e-01 -1.04003906e-01 -7.42187500e-02  4.68750000e-02\n",
            "  1.18652344e-01  9.22851562e-02 -1.83593750e-01  1.00097656e-01\n",
            "  2.43164062e-01 -1.92871094e-02  1.47460938e-01 -1.01074219e-01\n",
            " -3.07617188e-02 -4.93164062e-02 -1.18652344e-01  5.66406250e-02\n",
            " -1.81640625e-01 -2.27928162e-04  5.78613281e-02  8.93554688e-02\n",
            "  6.39648438e-02  3.75976562e-02 -9.61914062e-02 -1.79687500e-01\n",
            "  2.34375000e-02  2.51953125e-01 -1.39648438e-01 -1.36718750e-01\n",
            "  1.25976562e-01  1.46484375e-02  1.37695312e-01 -4.10156250e-02\n",
            "  2.48046875e-01  8.88671875e-02  1.66992188e-01 -2.02636719e-02\n",
            " -5.68847656e-02 -1.22558594e-01  8.25195312e-02 -1.50756836e-02\n",
            " -5.71289062e-02 -4.54101562e-02 -2.16796875e-01  3.37890625e-01\n",
            " -1.94335938e-01  8.25195312e-02 -2.59765625e-01 -1.14257812e-01\n",
            " -2.07031250e-01 -1.53808594e-02  2.36816406e-02  3.03955078e-02\n",
            "  9.42382812e-02 -1.96289062e-01  1.41601562e-01  2.19726562e-01\n",
            " -3.66210938e-02  9.37500000e-02  6.49414062e-02  1.67968750e-01\n",
            " -8.00781250e-02 -4.34570312e-02 -1.23046875e-01 -7.81250000e-03\n",
            "  7.95898438e-02 -1.77734375e-01 -1.86523438e-01  5.83496094e-02\n",
            " -1.90429688e-01 -2.61718750e-01  1.44531250e-01 -3.08593750e-01\n",
            "  2.55859375e-01  3.57421875e-01  1.30859375e-01  1.89453125e-01\n",
            " -1.55639648e-02  9.91210938e-02  3.12805176e-03 -9.96093750e-02\n",
            "  5.78613281e-02  9.91210938e-02  1.44531250e-01  3.92578125e-01\n",
            " -1.55273438e-01  1.27929688e-01  3.92578125e-01 -3.54003906e-02\n",
            "  5.17578125e-02  3.55529785e-03  3.28063965e-03 -1.30859375e-01\n",
            "  4.51660156e-02  2.76184082e-03  1.36718750e-01 -1.11083984e-02\n",
            " -1.84326172e-02 -1.22070312e-01  6.54296875e-02  2.02148438e-01\n",
            " -1.20117188e-01  1.93786621e-03 -2.09960938e-01 -9.52148438e-02\n",
            " -4.29687500e-02 -7.22656250e-02  6.78710938e-02 -2.84423828e-02\n",
            " -6.29882812e-02  6.17675781e-02 -2.63671875e-01 -8.74023438e-02\n",
            "  7.86132812e-02 -4.15039062e-02 -2.46093750e-01 -2.57568359e-02\n",
            "  4.98046875e-02  1.35742188e-01  8.62121582e-04  5.31005859e-03\n",
            "  1.06445312e-01  9.13085938e-02  1.01562500e-01  2.03857422e-02\n",
            " -1.18652344e-01  1.82617188e-01 -4.88281250e-02  4.15039062e-03\n",
            "  2.75390625e-01  1.95312500e-01 -5.27343750e-02 -1.46484375e-01\n",
            " -1.15722656e-01  4.51660156e-02  9.21630859e-03  1.45874023e-02\n",
            "  1.91406250e-01 -4.90722656e-02 -2.81982422e-02  8.39843750e-02\n",
            "  1.62353516e-02 -4.10156250e-02  7.51953125e-02  2.05078125e-01\n",
            " -8.25195312e-02 -7.76367188e-02 -1.56250000e-01  2.83203125e-01\n",
            " -1.13281250e-01 -1.01562500e-01  8.20312500e-02 -2.57568359e-02\n",
            " -2.96875000e-01 -2.18750000e-01  4.97436523e-03  6.64062500e-02\n",
            "  1.53320312e-01 -1.72119141e-02  2.46093750e-01 -5.73730469e-02\n",
            " -6.54296875e-02 -4.54101562e-02  1.45507812e-01 -9.27734375e-02\n",
            "  7.71484375e-02 -1.64062500e-01  1.94335938e-01 -1.53320312e-01\n",
            " -1.82617188e-01  3.06396484e-02 -5.12695312e-02 -1.27563477e-02\n",
            " -4.19921875e-02  1.51977539e-02  9.57031250e-02 -3.00292969e-02\n",
            "  9.81445312e-02  2.42187500e-01 -3.39843750e-01 -1.70898438e-01\n",
            " -1.03027344e-01 -8.83789062e-02 -1.82617188e-01  7.03125000e-02\n",
            "  1.09863281e-01  2.81250000e-01 -1.92382812e-01 -1.15722656e-01\n",
            " -2.71484375e-01  2.23632812e-01  2.39562988e-03 -2.73437500e-01\n",
            "  3.32031250e-02 -5.41992188e-02 -5.17578125e-02 -1.23046875e-01\n",
            "  9.39941406e-03 -2.63671875e-02 -2.01171875e-01 -7.51953125e-02\n",
            "  1.74560547e-02 -1.61132812e-02  7.17163086e-03  2.57812500e-01\n",
            "  1.30859375e-01 -4.76837158e-04 -1.60156250e-01 -6.64062500e-02\n",
            "  2.37304688e-01 -3.80859375e-02 -3.35937500e-01  4.51660156e-02\n",
            " -1.10839844e-01  1.01562500e-01 -4.57763672e-03  4.76074219e-02\n",
            " -1.28906250e-01 -1.25000000e-01 -5.61523438e-02 -1.08398438e-01]\n"
          ],
          "name": "stdout"
        }
      ]
    },
    {
      "cell_type": "markdown",
      "metadata": {
        "id": "VMD8FhNRQWID"
      },
      "source": [
        "Let's see the number of words that are missing from word2vec."
      ]
    },
    {
      "cell_type": "code",
      "metadata": {
        "id": "YKXCoBcFQU2u",
        "outputId": "cd15a675-3c7e-49a6-942e-3a6746e8aa07",
        "colab": {
          "base_uri": "https://localhost:8080/"
        }
      },
      "source": [
        "missing_word2vec = find_missing_words(vocabulary, word2vec, threshold)\n",
        "\n",
        "print(\"There are {} words that do not appear in the pre-trained word2vec vectors.\".format(missing_word2vec))\n",
        "print(\"In other words, it means that {}% of the words are not present in the {} most popular vectors of word2vec\".format(round(missing_word2vec/len(vocabulary), 4 )*100, limit_words))"
      ],
      "execution_count": 38,
      "outputs": [
        {
          "output_type": "stream",
          "text": [
            "There are 4329 words that do not appear in the pre-trained word2vec vectors.\n",
            "In other words, it means that 4.07% of the words are not present in the 200000 most popular vectors of word2vec\n"
          ],
          "name": "stdout"
        }
      ]
    },
    {
      "cell_type": "code",
      "metadata": {
        "id": "TrTZ0fn9hdE6"
      },
      "source": [
        "word2vec_dico, word2vec_reverse_dico, word2vec_embedding_matrix = create_dico_matrix(vocabulary, word2vec, threshold, vector_dim)"
      ],
      "execution_count": 53,
      "outputs": []
    },
    {
      "cell_type": "code",
      "metadata": {
        "id": "7y_guygSlPKJ"
      },
      "source": [
        "train_articles_int = text2integer(train_articles, word2vec_dico)\n",
        "train_titles_int = text2integer(train_titles, word2vec_dico)"
      ],
      "execution_count": 62,
      "outputs": []
    },
    {
      "cell_type": "markdown",
      "metadata": {
        "id": "HcTd16ttl3mb"
      },
      "source": [
        "Let's see the result of a clean integer article:"
      ]
    },
    {
      "cell_type": "code",
      "metadata": {
        "id": "8a8xpvmdl2fH",
        "outputId": "477451a2-f02e-4747-e0d1-bc1387a5e594",
        "colab": {
          "base_uri": "https://localhost:8080/"
        }
      },
      "source": [
        "print(train_articles[0])\n",
        "print(train_articles_int[0])\n",
        "print(word2vec_dico['associated'])"
      ],
      "execution_count": 65,
      "outputs": [
        {
          "output_type": "stream",
          "text": [
            "associated press published 14 11 est 25 october 2013 updated 15 36 est 25 october 2013 bishop fargo catholic diocese north dakota exposed potentially hundreds church members fargo grand forks jamestown hepatitis virus late september early october state health department issued advisory exposure anyone attended five churches took communion bishop john folda pictured fargo catholic diocese north dakota exposed potentially hundreds church members fargo grand forks jamestown hepatitis state immunization program manager molly howell says risk low officials feel important alert people possible exposure diocese announced monday bishop john folda taking time diagnosed hepatitis diocese says contracted infection contaminated food attending conference newly ordained bishops italy last month symptoms hepatitis include fever tiredness loss appetite nausea abdominal discomfort fargo catholic diocese north dakota pictured bishop located\n",
            "[0, 1, 2, 3, 4, 5, 6, 7, 8, 9, 10, 11, 5, 6, 7, 8, 12, 43577, 13, 14, 15, 16, 17, 18, 19, 20, 21, 43577, 22, 23, 43577, 24, 25, 26, 27, 28, 7, 29, 30, 31, 32, 33, 34, 35, 36, 37, 38, 39, 40, 12, 41, 43577, 42, 43577, 13, 14, 15, 16, 17, 18, 19, 20, 21, 43577, 22, 23, 43577, 24, 29, 43, 44, 45, 46, 47, 48, 49, 50, 51, 52, 53, 54, 55, 56, 34, 14, 57, 58, 12, 41, 43577, 59, 60, 61, 24, 14, 48, 62, 63, 64, 65, 66, 67, 68, 69, 70, 71, 72, 73, 74, 24, 75, 76, 77, 78, 79, 80, 81, 82, 43577, 13, 14, 15, 16, 42, 12, 83]\n",
            "0\n"
          ],
          "name": "stdout"
        }
      ]
    },
    {
      "cell_type": "markdown",
      "metadata": {
        "id": "kzYtZ2HTk_1k"
      },
      "source": [
        "### GloVe\n",
        "\n",
        "We have used these pre-trained word vectors : Wikipedia 2014 + Gigaword 5 (6B tokens, 400K vocab, uncased, 50d, 100d, 200d, & 300d vectors, 822 MB download): glove.6B.zip\n",
        "\n",
        "We will use the one with 300 dimensions vectors\n",
        "\n",
        "https://nlp.stanford.edu/projects/glove/"
      ]
    },
    {
      "cell_type": "code",
      "metadata": {
        "id": "UOJd1S0d17FP"
      },
      "source": [
        "glove = {}\n",
        "cnt = 0\n",
        "with open(\"/content/drive/My Drive/info2049/glove.6B.300d.txt\", 'r', encoding=\"utf-8\") as f:\n",
        "    for line in f:\n",
        "      if cnt == limit_words:\n",
        "        break\n",
        "      values = line.split()\n",
        "      word = values[0]\n",
        "      vector = np.asarray(values[1:], \"float32\")\n",
        "      glove[word] = vector\n",
        "      cnt += 1"
      ],
      "execution_count": 18,
      "outputs": []
    },
    {
      "cell_type": "code",
      "metadata": {
        "id": "kwqFFP9F43M_",
        "outputId": "63a7cd95-572f-4adf-ae83-f278dc97a506",
        "colab": {
          "base_uri": "https://localhost:8080/"
        }
      },
      "source": [
        "print(\"We have retrieved {} pre-trained vectors\".format(len(glove)))\n",
        "print(\"Each vectors has {} dimensions\".format(len(glove[\"project\"])))\n",
        "print(\"Here is an example of vector for the word 'project' with word2vec\\n\")\n",
        "print(glove[\"project\"])"
      ],
      "execution_count": 19,
      "outputs": [
        {
          "output_type": "stream",
          "text": [
            "We have retrieved 200000 pre-trained vectors\n",
            "Each vectors has 300 dimensions\n",
            "Here is an example of vector for the word 'project' with word2vec\n",
            "\n",
            "[-2.0397e-01 -3.5959e-02 -2.4745e-01 -5.5419e-01  6.7167e-03 -8.7778e-02\n",
            "  2.3057e-01 -3.3634e-01 -2.1594e-01 -1.3637e+00  2.1076e-01 -4.4217e-01\n",
            "  2.1688e-01  2.5215e-01  3.8284e-01  1.7151e-02  7.5829e-02  1.8668e-01\n",
            "  2.5643e-01  4.7164e-01 -3.0530e-01  1.8262e-01 -1.3302e-01  2.1855e-01\n",
            " -3.9873e-02  1.9053e-01  3.3508e-01  1.9015e-01 -1.5546e-02  2.3514e-01\n",
            "  7.2200e-01  2.9326e-01 -2.7213e-01  5.2866e-01 -1.2719e-01  2.0123e-01\n",
            " -2.4419e-01 -7.9395e-02  3.3330e-01  1.3958e-02 -2.7907e-01 -3.7687e-01\n",
            " -3.3006e-01  3.0789e-01 -1.2030e-01 -2.8289e-01 -8.8605e-02  1.3664e-01\n",
            " -1.6403e-01 -6.1411e-02  1.9604e-01  1.0830e-01 -3.6917e-01  1.8505e-03\n",
            " -2.9781e-01  3.5050e-01  4.3316e-01  4.4869e-01 -1.3611e-01  1.3710e-01\n",
            " -8.4922e-01  3.1850e-01 -4.3727e-02 -5.8593e-01  5.6550e-02  8.6663e-01\n",
            "  4.2441e-01  3.1674e-01  5.9644e-02 -2.1432e-01  3.1859e-01  3.8106e-01\n",
            "  4.1974e-01  4.1758e-01  1.6028e-02  4.7135e-01  1.0524e-01  4.9912e-01\n",
            "  1.0450e-01  4.2008e-01 -2.4356e-01 -2.5552e-01  2.7805e-01 -3.8094e-01\n",
            "  3.3754e-01  6.5928e-02 -1.6434e-01  4.8974e-01  3.6647e-01 -8.2567e-01\n",
            " -2.8254e-01  6.2603e-02 -3.3515e-02 -2.4739e-01  1.5371e-01 -5.5605e-01\n",
            " -1.5949e-01 -3.9570e-01 -4.1157e-02 -7.5311e-01 -2.5368e-01 -2.4810e-01\n",
            "  3.2981e-01 -2.1247e-01  4.6163e-01 -1.3924e-01  3.8115e-02  2.6646e-01\n",
            " -1.0736e-01 -5.9766e-01  1.6200e-01 -6.8731e-01 -4.3474e-01  5.2374e-02\n",
            " -1.7447e-01 -1.9851e-01  1.6572e-01 -3.3374e-01  2.3170e-01  2.3163e-02\n",
            " -3.7853e-01  1.6136e-01 -1.9135e-01  2.3605e-01  4.8257e-01 -3.6414e-01\n",
            "  2.0539e-04  2.3195e-01 -3.7186e-01 -7.1814e-02  2.6602e-01 -8.2448e-02\n",
            "  6.4702e-01  1.1191e-02 -6.8356e-02  1.6886e-02 -4.2168e-01 -2.7580e-01\n",
            " -3.4925e-01 -5.1142e-01  3.6726e-01 -3.5122e-02  6.2521e-01 -1.3248e-01\n",
            " -8.2734e-03 -3.0273e-01  3.2068e-01  4.7160e-02 -1.2623e-01  2.6648e-01\n",
            "  5.6839e-01  1.8310e-01  7.2495e-02 -1.7617e-01  9.9639e-02  2.2911e-01\n",
            " -7.1569e-02 -6.0433e-03 -9.3716e-01  1.6631e-01 -3.0307e-01 -2.0289e-01\n",
            "  7.4045e-03  3.0893e-01 -3.0618e-02 -5.1045e-01 -1.9603e-01  2.0277e-01\n",
            " -4.3709e-01  5.6567e-01  4.7061e-01 -4.9635e-01 -5.0913e-01 -7.7369e-01\n",
            "  5.0896e-02  4.2738e-01 -3.1582e-01 -1.9339e-01 -7.5247e-02 -1.3827e-01\n",
            " -3.6868e-01  3.9174e-01  1.2326e-01  1.0427e-01 -2.4818e-01 -3.2048e-01\n",
            "  7.4130e-02 -9.6725e-02  9.0234e-02 -4.6765e-01  1.4071e-03  5.8860e-01\n",
            " -4.4946e-01  3.3885e-01 -6.0756e-01  3.3572e-01 -1.6301e-01  1.4508e-02\n",
            "  1.6533e-01 -1.7145e-01  7.9559e-01 -6.0492e-03  4.4435e-02 -1.3633e-01\n",
            "  2.6128e-02  2.0488e-01 -4.7256e-02  2.0920e-01  6.3561e-01  3.6364e-01\n",
            "  3.9808e-01 -1.2316e-01  5.7745e-02 -4.8750e-01  1.6598e-01  3.6345e-01\n",
            " -2.8491e-01  4.1924e-01  7.0211e-02  3.0852e-01  4.9696e-01 -3.1795e-01\n",
            " -3.8511e-01  3.4087e-01  2.5234e-01 -2.4873e-01 -3.2537e-02 -1.0871e-01\n",
            " -5.2282e-01 -1.8538e-01  5.6150e-02  1.0370e-01 -6.3808e-01  1.3097e-01\n",
            "  3.7513e-01  7.9660e-02 -3.3749e-01  8.1252e-02  2.6972e-02 -3.8277e-01\n",
            "  4.1449e-01  6.0653e-02  1.8743e-01 -1.2483e-01 -1.4313e+00  6.1829e-01\n",
            " -6.1430e-02 -5.3853e-01  2.7045e-02 -1.7246e-03 -2.2739e-01  3.4895e-01\n",
            " -8.6107e-02  2.5431e-01  2.9941e-01 -5.9102e-02  6.6641e-02  2.4899e-01\n",
            "  3.0118e-01  2.0001e-01  2.5010e-01  5.1313e-01  2.8306e-01 -1.6362e-01\n",
            "  1.1705e-01  4.1320e-01  7.7459e-02  1.0399e-02  2.6514e-01  2.4251e-01\n",
            "  3.3386e-01 -2.1010e-01  1.9087e-01 -2.9917e-01 -2.0893e-01 -2.0170e-02\n",
            " -1.9026e+00 -2.0888e-01  7.8513e-01  2.3326e-01 -2.2107e-01 -6.9110e-02\n",
            " -3.8592e-01 -2.7829e-01 -1.8754e-01  2.5594e-01  1.4999e-01 -1.8555e-01\n",
            " -3.9176e-01 -3.2349e-01 -3.6894e-01 -4.2976e-01 -5.7471e-01  1.2859e-01\n",
            "  5.8113e-01  5.0085e-01  1.8649e-01 -2.0810e-01 -6.0817e-03  1.7377e-01]\n"
          ],
          "name": "stdout"
        }
      ]
    },
    {
      "cell_type": "code",
      "metadata": {
        "id": "gpdsGZsiTqbP",
        "outputId": "914cfcc5-6f94-4c0e-add5-635a00609d21",
        "colab": {
          "base_uri": "https://localhost:8080/"
        }
      },
      "source": [
        "missing_glove = find_missing_words(vocabulary, glove, threshold)\n",
        "\n",
        "print(\"There are {} words that do not appear in the pre-trained GloVe vectors.\".format(missing_glove))\n",
        "print(\"In other words, it means that {}% of the words are not present in the {} most popular vectors of GloVe\".format(round(missing_glove/len(vocabulary), 4 )*100, limit_words))"
      ],
      "execution_count": 35,
      "outputs": [
        {
          "output_type": "stream",
          "text": [
            "There are 428 words that do not appear in the pre-trained GloVe vectors.\n",
            "In other words, it means that 0.4% of the words are not present in the 200000 most popular vectors of GloVe\n"
          ],
          "name": "stdout"
        }
      ]
    },
    {
      "cell_type": "code",
      "metadata": {
        "id": "ZJa1rrIyiXJy"
      },
      "source": [
        "glove_dico, glove_reverse_dico, glove_embedding_matrix = create_dico_matrix(vocabulary, glove, threshold, vector_dim)"
      ],
      "execution_count": 56,
      "outputs": []
    },
    {
      "cell_type": "code",
      "metadata": {
        "id": "6TX8u2aAlUEn",
        "outputId": "8f7af1a0-4a8a-439a-8537-3c812889ad25",
        "colab": {
          "base_uri": "https://localhost:8080/"
        }
      },
      "source": [
        "print(len(glove_dico))\n",
        "print(type(glove_embedding_matrix))"
      ],
      "execution_count": 60,
      "outputs": [
        {
          "output_type": "stream",
          "text": [
            "71261\n",
            "<class 'numpy.ndarray'>\n"
          ],
          "name": "stdout"
        }
      ]
    },
    {
      "cell_type": "markdown",
      "metadata": {
        "id": "NR8ZJZ1FlbNW"
      },
      "source": [
        "### FastText\n",
        "\n",
        "We have used these pre-trained word vectors : 1 million word vectors trained on Wikipedia 2017, UMBC webbase corpus and statmt.org news dataset (16B tokens)\n",
        "\n",
        "https://fasttext.cc/docs/en/english-vectors.html"
      ]
    },
    {
      "cell_type": "code",
      "metadata": {
        "id": "jEgmOoxKBrPB"
      },
      "source": [
        "fasttext = KeyedVectors.load_word2vec_format('/content/drive/My Drive/info2049/wiki-news-300d-1M.vec', binary=False, limit = limit_words)"
      ],
      "execution_count": 20,
      "outputs": []
    },
    {
      "cell_type": "code",
      "metadata": {
        "id": "ZZ9U7TOBDUxu",
        "outputId": "7e5eed35-7be5-40d9-ed64-7a3b9be28eda",
        "colab": {
          "base_uri": "https://localhost:8080/"
        }
      },
      "source": [
        "print(\"We have retrieved {} pre-trained vectors\".format(len(fasttext.vocab)))\n",
        "print(\"Each vectors has {} dimensions\".format(len(fasttext[\"project\"])))\n",
        "print(\"Here is an example of vector for the word 'project' with FastText\\n\")\n",
        "print(fasttext[\"project\"])"
      ],
      "execution_count": 25,
      "outputs": [
        {
          "output_type": "stream",
          "text": [
            "We have retrieved 200000 pre-trained vectors\n",
            "Each vectors has 300 dimensions\n",
            "Here is an example of vector for the word 'project' with FastText\n",
            "\n",
            "[-3.380e-02 -4.460e-02  2.790e-02 -5.690e-02 -1.607e-01 -4.840e-02\n",
            " -3.050e-02  1.190e-01 -2.990e-02 -5.810e-02 -3.190e-02  2.200e-02\n",
            " -1.772e-01 -1.140e-01  9.730e-02  5.320e-02  1.827e-01 -4.940e-02\n",
            "  5.960e-02 -8.740e-02 -1.185e-01  9.800e-03  8.250e-02  7.660e-02\n",
            " -6.190e-02 -1.337e-01 -2.268e-01 -5.860e-02 -9.640e-02 -1.860e-02\n",
            " -5.940e-02  1.009e-01 -4.900e-03  3.300e-02 -7.130e-02  9.940e-02\n",
            "  5.170e-02 -1.640e-02 -1.100e-02 -5.210e-02  1.210e-02 -1.023e-01\n",
            "  3.580e-02 -1.770e-02 -3.830e-02  6.560e-02  4.700e-03 -1.520e-02\n",
            " -6.710e-02  7.200e-02  1.091e-01  3.530e-02 -5.655e-01 -4.110e-02\n",
            "  4.290e-02  1.730e-02  4.390e-02 -2.800e-03  4.200e-03 -1.830e-02\n",
            "  1.230e-02 -6.680e-02  2.810e-02  2.260e-02  2.220e-02  4.460e-02\n",
            " -3.370e-02 -3.700e-02 -4.870e-02 -2.980e-02  3.440e-02  8.180e-02\n",
            " -1.006e-01  2.900e-03  1.594e-01 -3.910e-02 -8.480e-02 -2.100e-03\n",
            "  1.134e-01  6.540e-02  3.170e-02  1.889e-01 -2.800e-02 -2.412e-01\n",
            " -1.100e-03  1.030e-02  4.380e-02 -1.090e-01  1.836e-01  5.510e-02\n",
            "  3.000e-04  1.746e-01 -4.490e-02 -1.450e-02  2.090e-02 -4.790e-02\n",
            "  1.641e-01 -6.930e-02  6.960e-02  9.000e-04 -1.464e-01 -1.150e-01\n",
            " -1.050e-01 -1.060e-02  5.200e-02 -2.280e-02 -1.937e-01 -8.420e-02\n",
            "  1.450e-02 -3.490e-02 -7.000e-03  7.920e-02 -4.590e-02  1.635e-01\n",
            " -4.600e-02  1.543e-01  9.730e-02  1.063e-01 -1.706e-01 -3.586e-01\n",
            "  5.870e-02 -4.410e-02 -1.650e-02  4.000e-02  1.160e-02  1.745e-01\n",
            "  7.590e-02  4.700e-02 -4.440e-02  1.730e-02  1.420e-01  2.050e-02\n",
            " -1.623e-01 -5.940e-02  3.020e-02  5.550e-02 -1.620e-01  5.480e-02\n",
            " -2.520e-02  5.200e-03  1.940e-02  1.700e-03 -1.199e-01  2.600e-01\n",
            " -7.700e-03 -1.197e-01  1.784e-01  5.940e-02 -5.600e-03 -2.390e-02\n",
            "  5.670e-02  1.090e-02  1.000e-02  2.580e-02  1.100e-02 -8.750e-02\n",
            " -8.760e-02 -7.210e-02 -1.030e-02 -7.700e-02  3.860e-02 -1.046e-01\n",
            "  1.372e-01  1.670e-02 -6.410e-02  2.230e-02  3.670e-02  2.970e-02\n",
            "  4.200e-03  1.235e-01 -4.590e-02  4.870e-02  1.800e-02 -1.047e-01\n",
            " -7.410e-02 -1.328e-01  2.103e-01 -2.571e-01  7.050e-02  5.400e-02\n",
            "  1.138e-01 -2.100e-02  3.670e-02 -3.860e-02  1.122e-01 -4.890e-02\n",
            "  6.160e-02  1.972e-01 -1.518e-01  2.650e-02  1.810e-02  4.570e-02\n",
            "  2.000e-03 -8.510e-02 -9.700e-02 -1.286e-01  7.860e-02  1.222e-01\n",
            "  1.377e-01 -4.130e-02  5.980e-02 -8.080e-02  2.900e-02 -6.270e-02\n",
            "  1.500e-03 -3.180e-02 -1.762e-01 -9.610e-02  5.880e-02  7.930e-02\n",
            "  4.890e-02  3.140e-02  6.380e-02  3.030e-02  1.236e-01  1.154e-01\n",
            "  5.770e-02  5.470e-02  2.160e-02 -4.470e-02 -5.830e-02 -7.400e-03\n",
            " -1.990e-02  1.418e-01 -9.240e-02 -1.595e-01 -1.930e-02 -4.230e-02\n",
            " -4.770e-02 -6.350e-02 -6.280e-02 -7.820e-02  3.928e-01  3.320e-02\n",
            " -4.340e-02 -2.260e-02 -1.039e-01  1.613e-01 -2.343e-01  1.000e-03\n",
            " -1.388e-01 -1.203e-01 -1.531e-01  1.290e-02  1.453e-01  6.460e-02\n",
            " -4.150e-02  2.411e-01  2.930e-02  2.637e-01  1.200e-03  1.051e-01\n",
            " -1.164e-01  1.270e-02 -1.105e-01  1.217e-01  8.170e-02  6.410e-02\n",
            "  4.390e-02  2.260e-02 -7.170e-02 -2.530e-02  2.930e-02 -3.780e-02\n",
            " -3.954e-01 -7.950e-02 -1.495e-01  6.300e-03 -1.342e-01  1.617e-01\n",
            " -2.700e-02  7.160e-02 -1.920e-02 -7.580e-02 -1.400e-02  7.340e-02\n",
            " -8.100e-02 -1.632e-01 -1.788e-01 -5.680e-02  7.250e-02  2.410e-02\n",
            "  4.880e-02  7.300e-02 -3.840e-02  3.220e-02 -3.230e-02  1.325e-01\n",
            "  1.440e-02  1.456e-01  8.950e-02  9.180e-02 -1.217e-01 -5.460e-02\n",
            " -1.612e-01  1.750e-02 -5.880e-02  1.729e-01 -1.507e-01 -4.420e-02]\n"
          ],
          "name": "stdout"
        }
      ]
    },
    {
      "cell_type": "code",
      "metadata": {
        "id": "aQVaVrH5T6uB",
        "outputId": "6d04bab4-d57c-44ae-fa6e-4bed6a3169f9",
        "colab": {
          "base_uri": "https://localhost:8080/"
        }
      },
      "source": [
        "missing_fasttext = find_missing_words(vocabulary, fasttext, threshold)\n",
        "\n",
        "print(\"There are {} words that do not appear in the pre-trained FastText vectors.\".format(missing_fasttext))\n",
        "print(\"In other words, it means that {}% of the words are not present in the {} most popular vectors of FastText\".format(round(missing_fasttext/len(vocabulary), 4 )*100, limit_words))"
      ],
      "execution_count": 37,
      "outputs": [
        {
          "output_type": "stream",
          "text": [
            "There are 2865 words that do not appear in the pre-trained FastText vectors.\n",
            "In other words, it means that 2.69% of the words are not present in the 200000 most popular vectors of FastText\n"
          ],
          "name": "stdout"
        }
      ]
    },
    {
      "cell_type": "code",
      "metadata": {
        "id": "4uPROzhaiczN"
      },
      "source": [
        "fasttext_dico, fasttext_reverse_dico, fasttext_embedding_matrix = create_dico_matrix(vocabulary, fasttext, threshold, vector_dim)"
      ],
      "execution_count": 57,
      "outputs": []
    }
  ]
}